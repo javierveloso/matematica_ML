{
 "cells": [
  {
   "cell_type": "markdown",
   "metadata": {},
   "source": [
    "# 0. Introducción al Mundo de Data Science y Machine Learning\n",
    "\n",
    "## 0.1. Un Viaje a Través del Tiempo\n",
    "\n",
    "Para entender la revolución que hoy vivimos en Data Science y Machine Learning, es fundamental recorrer su historia y observar cómo la evolución tecnológica y científica ha allanado el camino hacia los impresionantes desarrollos actuales. A continuación, se detallan los momentos y figuras clave en este viaje fascinante.\n",
    "\n",
    "### 0.1.1. Los Orígenes\n",
    "\n",
    "#### 0.1.1.1. De la estadística a la inteligencia artificial\n",
    "\n",
    "##### El censo de 1880 y la máquina tabuladora de Hollerith\n",
    "\n",
    "El censo de 1880 en los Estados Unidos marcó un punto crítico en la historia de la estadística y la recopilación de datos. Debido a la cantidad masiva de datos a procesar, se requería una solución innovadora. Herman Hollerith diseñó una máquina tabuladora que utilizaba tarjetas perforadas para registrar y procesar información, reduciendo significativamente el tiempo necesario para completar el censo. Esta invención es considerada uno de los primeros pasos hacia la automatización de datos y la computación moderna.\n",
    "\n",
    "##### Alan Turing y la máquina de Turing\n",
    "\n",
    "Alan Turing, matemático y criptógrafo británico, introdujo en 1936 el concepto de la máquina de Turing, un modelo teórico que define una máquina capaz de simular cualquier algoritmo computacional. La máquina de Turing es la base teórica de las computadoras modernas y sentó las bases para la inteligencia artificial (IA). Turing también es conocido por su trabajo en la descodificación de mensajes durante la Segunda Guerra Mundial, y por plantear la famosa \"Prueba de Turing\", un criterio para determinar si una máquina puede exhibir comportamiento inteligente indistinguible del de un humano.\n",
    "\n",
    "#### 0.1.1.2. El nacimiento del Machine Learning\n",
    "\n",
    "##### Arthur Samuel y el juego de damas (1959)\n",
    "\n",
    "Arthur Samuel, un pionero en el campo de la IA, desarrolló en 1959 uno de los primeros programas de autoaprendizaje utilizando el juego de damas. Samuel definió el término \"Machine Learning\" (aprendizaje automático) y demostró que una máquina podía aprender a jugar mejor con la experiencia. Su trabajo sentó las bases para el desarrollo de algoritmos que permiten a las máquinas mejorar su rendimiento con el tiempo, sin intervención humana explícita.\n",
    "\n",
    "##### El perceptrón de Frank Rosenblatt (1958)\n",
    "\n",
    "Frank Rosenblatt, psicólogo y científico de la computación, presentó en 1958 el perceptrón, un modelo matemático inspirado en el funcionamiento de las neuronas biológicas. El perceptrón es una red neuronal simple que puede realizar tareas de clasificación lineal. La fórmula básica del perceptrón se puede expresar como:\n",
    "\n",
    "$$\n",
    "\\ y = f(\\sum_{i} w_i x_i + b) \\\n",
    "$$\n",
    "\n",
    "Donde:\n",
    "- \\( y \\) es la salida del perceptrón.\n",
    "- \\( f \\) es la función de activación (normalmente una función escalón).\n",
    "- \\( w_i \\) son los pesos.\n",
    "- \\( x_i \\) son las entradas.\n",
    "- \\( b \\) es el sesgo (bias).\n",
    "\n",
    "### 0.1.2. La Revolución de los Datos\n",
    "\n",
    "#### 0.1.2.1. La era del Big Data\n",
    "\n",
    "##### De megabytes a zettabytes: el crecimiento exponencial de los datos\n",
    "\n",
    "El término \"Big Data\" se refiere al manejo y análisis de grandes volúmenes de datos que superan la capacidad de las herramientas tradicionales de procesamiento de datos. Desde la década de 2000, el volumen de datos generados y recopilados ha crecido de manera exponencial, pasando de megabytes a gigabytes, terabytes, petabytes y actualmente zettabytes. Este crecimiento ha sido impulsado por la proliferación de dispositivos digitales, el uso masivo de internet y la digitalización de numerosas actividades cotidianas.\n",
    "\n",
    "##### El papel de internet y las redes sociales\n",
    "\n",
    "Internet y las redes sociales han desempeñado un papel crucial en la explosión de datos. Plataformas como Facebook, Twitter, Instagram y YouTube generan terabytes de datos cada segundo, incluyendo textos, imágenes, videos y otras formas de contenido. Esta enorme cantidad de información ofrece oportunidades sin precedentes para el análisis de datos y el desarrollo de modelos predictivos, pero también plantea desafíos significativos en términos de almacenamiento, procesamiento y privacidad.\n",
    "\n",
    "#### 0.1.2.2. El renacimiento del Deep Learning\n",
    "\n",
    "##### ImageNet y el punto de inflexión de 2012\n",
    "\n",
    "En 2012, el concurso ImageNet Large Scale Visual Recognition Challenge (ILSVRC) marcó un punto de inflexión en el campo del aprendizaje profundo (Deep Learning). Un equipo de la Universidad de Toronto, liderado por Geoffrey Hinton, utilizó una red neuronal convolucional profunda llamada AlexNet para ganar el concurso con una precisión sin precedentes en la clasificación de imágenes. Este éxito demostró el potencial de las redes neuronales profundas y catalizó una nueva ola de investigación y aplicaciones en Deep Learning.\n",
    "\n",
    "##### GPT y la revolución del procesamiento del lenguaje natural\n",
    "\n",
    "La serie de modelos Generative Pre-trained Transformer (GPT) desarrollados por OpenAI ha revolucionado el campo del procesamiento del lenguaje natural (NLP). Estos modelos, especialmente GPT-3, han demostrado una capacidad impresionante para comprender y generar texto humano, facilitando aplicaciones como la traducción automática, la generación de texto, y la respuesta a preguntas. La arquitectura de GPT se basa en transformadores, un tipo de modelo de aprendizaje profundo que ha mostrado ser extremadamente eficaz en tareas de secuencias.\n",
    "\n",
    "### Ejemplo en Python: Perceptrón Simple\n",
    "\n",
    "A continuación, se presenta un ejemplo en Python para implementar un perceptrón simple utilizando la biblioteca `scikit-learn`:\n"
   ]
  },
  {
   "cell_type": "code",
   "execution_count": 18,
   "metadata": {},
   "outputs": [
    {
     "name": "stdout",
     "output_type": "stream",
     "text": [
      "Precisión del Perceptrón: 100.00%\n"
     ]
    }
   ],
   "source": [
    "\n",
    "import numpy as np\n",
    "from sklearn.datasets import load_iris\n",
    "from sklearn.model_selection import train_test_split\n",
    "from sklearn.linear_model import Perceptron\n",
    "from sklearn.metrics import accuracy_score\n",
    "\n",
    "# Cargar el conjunto de datos de Iris\n",
    "iris = load_iris()\n",
    "X = iris.data\n",
    "y = iris.target\n",
    "\n",
    "# Seleccionar solo dos clases para un problema de clasificación binaria\n",
    "X = X[y != 2]\n",
    "y = y[y != 2]\n",
    "\n",
    "# Dividir los datos en conjuntos de entrenamiento y prueba\n",
    "X_train, X_test, y_train, y_test = train_test_split(X, y, test_size=0.3, random_state=42)\n",
    "\n",
    "# Crear y entrenar el perceptrón\n",
    "perceptron = Perceptron(max_iter=1000, tol=1e-3)\n",
    "perceptron.fit(X_train, y_train)\n",
    "\n",
    "# Hacer predicciones\n",
    "y_pred = perceptron.predict(X_test)\n",
    "\n",
    "# Evaluar el rendimiento\n",
    "accuracy = accuracy_score(y_test, y_pred)\n",
    "print(f\"Precisión del Perceptrón: {accuracy * 100:.2f}%\")"
   ]
  },
  {
   "cell_type": "markdown",
   "metadata": {},
   "source": [
    "#### Explicación del Código: Implementación de un Perceptrón Simple\n",
    "\n",
    "Este código es un ejemplo práctico de cómo implementar un perceptrón simple utilizando la biblioteca `scikit-learn` en Python. Un perceptrón es uno de los modelos más básicos de redes neuronales y se utiliza para tareas de clasificación. Vamos a desglosar el código paso a paso:\n",
    "\n",
    "1. **Importación de Bibliotecas**:\n",
    "    ```python\n",
    "    import numpy as np\n",
    "    from sklearn.datasets import load_iris\n",
    "    from sklearn.model_selection import train_test_split\n",
    "    from sklearn.linear_model import Perceptron\n",
    "    from sklearn.metrics import accuracy_score\n",
    "    ```\n",
    "    - **numpy**: Biblioteca para trabajar con arreglos y matrices de datos.\n",
    "    - **sklearn.datasets**: Módulo para cargar conjuntos de datos predefinidos.\n",
    "    - **sklearn.model_selection**: Módulo para dividir los datos en conjuntos de entrenamiento y prueba.\n",
    "    - **sklearn.linear_model**: Módulo que contiene el modelo de Perceptrón.\n",
    "    - **sklearn.metrics**: Módulo para evaluar el rendimiento del modelo.\n",
    "\n",
    "2. **Cargar el Conjunto de Datos de Iris**:\n",
    "    ```python\n",
    "    iris = load_iris()\n",
    "    X = iris.data\n",
    "    y = iris.target\n",
    "    ```\n",
    "    - **load_iris()**: Carga el conjunto de datos de Iris, que es un conjunto de datos muy conocido en Machine Learning.\n",
    "    - **X**: Contiene las características (atributos) de las flores.\n",
    "    - **y**: Contiene las etiquetas (clases) de las flores.\n",
    "\n",
    "3. **Seleccionar Solo Dos Clases para Clasificación Binaria**:\n",
    "    ```python\n",
    "    X = X[y != 2]\n",
    "    y = y[y != 2]\n",
    "    ```\n",
    "    - Aquí filtramos los datos para quedarnos solo con dos clases (0 y 1), eliminando la clase 2. Esto simplifica el problema a una clasificación binaria.\n",
    "\n",
    "4. **Dividir los Datos en Conjuntos de Entrenamiento y Prueba**:\n",
    "    ```python\n",
    "    X_train, X_test, y_train, y_test = train_test_split(X, y, test_size=0.3, random_state=42)\n",
    "    ```\n",
    "    - **train_test_split**: Divide los datos en dos conjuntos: uno para entrenar el modelo (70%) y otro para probarlo (30%).\n",
    "    - **random_state=42**: Asegura que la división sea reproducible.\n",
    "\n",
    "5. **Crear y Entrenar el Perceptrón**:\n",
    "    ```python\n",
    "    perceptron = Perceptron(max_iter=1000, tol=1e-3)\n",
    "    perceptron.fit(X_train, y_train)\n",
    "    ```\n",
    "    - **Perceptron(max_iter=1000, tol=1e-3)**: Crea un modelo de perceptrón con un máximo de 1000 iteraciones y una tolerancia de 0.001.\n",
    "    - **fit(X_train, y_train)**: Entrena el modelo utilizando los datos de entrenamiento.\n",
    "\n",
    "6. **Hacer Predicciones**:\n",
    "    ```python\n",
    "    y_pred = perceptron.predict(X_test)\n",
    "    ```\n",
    "    - **predict(X_test)**: Utiliza el modelo entrenado para predecir las etiquetas del conjunto de prueba.\n",
    "\n",
    "7. **Evaluar el Rendimiento del Modelo**:\n",
    "    ```python\n",
    "    accuracy = accuracy_score(y_test, y_pred)\n",
    "    print(f\"Precisión del Perceptrón: {accuracy * 100:.2f}%\")\n",
    "    ```\n",
    "    - **accuracy_score(y_test, y_pred)**: Calcula la precisión del modelo comparando las etiquetas predichas con las etiquetas reales del conjunto de prueba.\n",
    "    - **print**: Muestra la precisión del modelo en porcentaje.\n",
    "\n",
    "---\n",
    "\n",
    "#### Conceptos Clave\n",
    "\n",
    "- **Perceptrón**: Es un modelo de red neuronal simple que se utiliza para tareas de clasificación. Funciona ajustando pesos a las características de entrada para predecir la clase de una muestra.\n",
    "- **Conjunto de Datos de Iris**: Un conjunto de datos clásico en Machine Learning que contiene características de diferentes tipos de flores de iris.\n",
    "- **Clasificación Binaria**: Un tipo de problema de clasificación donde solo hay dos clases posibles.\n",
    "- **Entrenamiento y Prueba**: El proceso de dividir los datos en dos partes: una para entrenar el modelo y otra para evaluar su rendimiento.\n",
    "- **Precisión**: Una métrica que indica el porcentaje de predicciones correctas realizadas por el modelo.\n",
    "\n",
    "Este ejemplo muestra cómo se puede utilizar un perceptrón para resolver un problema de clasificación binaria de manera sencilla y efectiva."
   ]
  },
  {
   "cell_type": "markdown",
   "metadata": {},
   "source": [
    "## 0.2. Matemáticas: El Lenguaje Secreto de los Datos\n",
    "\n",
    "La matemática es el núcleo esencial de la ciencia de datos y el aprendizaje automático. Proporciona las herramientas necesarias para entender, modelar y resolver problemas complejos. En esta sección, exploraremos cómo el álgebra lineal y el cálculo forman la base de muchos algoritmos de Machine Learning, brindando una comprensión más profunda de su funcionamiento interno.\n",
    "\n",
    "### 0.2.1. Álgebra Lineal: El Esqueleto de los Algoritmos\n",
    "\n",
    "El álgebra lineal es fundamental en el campo de la ciencia de datos. Nos permite trabajar con grandes cantidades de datos de manera eficiente y es crucial para la mayoría de los algoritmos de Machine Learning.\n",
    "\n",
    "#### 0.2.1.1. Matrices: Más allá de filas y columnas\n",
    "\n",
    "##### Cómo Netflix usa álgebra lineal para recomendar películas\n",
    "\n",
    "Netflix utiliza técnicas de álgebra lineal para hacer recomendaciones personalizadas a sus usuarios. Una técnica popular es la factorización de matrices, que descompone una gran matriz de usuarios y películas en matrices más pequeñas que capturan las relaciones latentes entre ellos. La idea es completar una matriz de calificaciones incompletas prediciendo las calificaciones faltantes.\n"
   ]
  },
  {
   "cell_type": "code",
   "execution_count": 19,
   "metadata": {},
   "outputs": [
    {
     "name": "stdout",
     "output_type": "stream",
     "text": [
      "Matriz aproximada:\n",
      " [[34.53123022 25.94527131  7.11343007  5.37499469]\n",
      " [16.80690041  7.57729449 -2.30017067 10.43311885]\n",
      " [ 6.14013229 -2.30017067 -6.6229509  11.65603926]\n",
      " [ 7.16665959 11.12774125  8.02862235 -7.77303624]]\n"
     ]
    }
   ],
   "source": [
    "import numpy as np\n",
    "from sklearn.decomposition import TruncatedSVD\n",
    "\n",
    "# Supongamos una matriz de calificaciones de usuarios y películas\n",
    "ratings_matrix = np.array([\n",
    "    [5, 4, 0, 0],\n",
    "    [3, 0, 0, 2],\n",
    "    [0, 0, 0, 4],\n",
    "    [0, 2, 4, 0]\n",
    "])\n",
    "\n",
    "# Factorización de matrices utilizando SVD truncado\n",
    "svd = TruncatedSVD(n_components=2)\n",
    "U = svd.fit_transform(ratings_matrix)\n",
    "Sigma = svd.singular_values_\n",
    "VT = svd.components_\n",
    "\n",
    "# Reconstrucción aproximada de la matriz original\n",
    "approx_matrix = np.dot(U, np.dot(np.diag(Sigma), VT))\n",
    "print(\"Matriz aproximada:\\n\", approx_matrix)"
   ]
  },
  {
   "cell_type": "markdown",
   "metadata": {},
   "source": [
    "##### PageRank: El álgebra detrás del motor de búsqueda de Google\n",
    "\n",
    "El algoritmo PageRank, utilizado por Google para clasificar páginas web, se basa en el álgebra lineal. Representa la web como un grafo donde los nodos son páginas y los enlaces son conexiones entre ellas. El PageRank de cada página se calcula iterativamente hasta converger a valores estables, utilizando la matriz de enlaces."
   ]
  },
  {
   "cell_type": "code",
   "execution_count": 20,
   "metadata": {},
   "outputs": [
    {
     "name": "stdout",
     "output_type": "stream",
     "text": [
      "PageRank:\n",
      " [0.24437863 0.24628244 0.24522184 0.24603095]\n"
     ]
    }
   ],
   "source": [
    "import numpy as np\n",
    "\n",
    "# Ejemplo simplificado de una matriz de enlaces\n",
    "links = np.array([\n",
    "    [0, 0, 1, 0.5],\n",
    "    [0.33, 0, 0, 0.5],\n",
    "    [0.33, 0.5, 0, 0],\n",
    "    [0.33, 0.5, 0, 0]\n",
    "])\n",
    "\n",
    "# Inicialización del vector de PageRank\n",
    "n = links.shape[0]\n",
    "pagerank = np.ones(n) / n\n",
    "damping_factor = 0.85\n",
    "\n",
    "# Iteración para calcular el PageRank\n",
    "for _ in range(100):\n",
    "    pagerank = (1 - damping_factor) / n + damping_factor * links.T.dot(pagerank)\n",
    "\n",
    "print(\"PageRank:\\n\", pagerank)"
   ]
  },
  {
   "cell_type": "markdown",
   "metadata": {},
   "source": [
    "#### 0.2.1.2. Vectores: Dando dirección a los datos\n",
    "\n",
    "##### Word embeddings: Representando palabras como vectores\n",
    "\n",
    "En el procesamiento del lenguaje natural (NLP), los word embeddings son técnicas para representar palabras como vectores en un espacio continuo. Esto permite capturar relaciones semánticas entre palabras. Modelos como Word2Vec transforman palabras en vectores de alta dimensión que pueden ser usados en tareas de NLP como clasificación de texto o análisis de sentimientos."
   ]
  },
  {
   "cell_type": "code",
   "execution_count": 21,
   "metadata": {},
   "outputs": [
    {
     "name": "stdout",
     "output_type": "stream",
     "text": [
      "Vector para 'learning':\n",
      " [-0.00536227  0.00236431  0.0510335   0.09009273 -0.0930295  -0.07116809\n",
      "  0.06458873  0.08972988 -0.05015428 -0.03763372]\n"
     ]
    }
   ],
   "source": [
    "from gensim.models import Word2Vec\n",
    "\n",
    "# Corpus de ejemplo\n",
    "sentences = [\n",
    "    [\"machine\", \"learning\", \"is\", \"fun\"],\n",
    "    [\"deep\", \"learning\", \"is\", \"a\", \"subset\", \"of\", \"machine\", \"learning\"]\n",
    "]\n",
    "\n",
    "# Entrenamiento del modelo Word2Vec\n",
    "model = Word2Vec(sentences, vector_size=10, window=2, min_count=1, workers=4)\n",
    "\n",
    "# Obtener el vector para una palabra\n",
    "vector = model.wv['learning']\n",
    "print(\"Vector para 'learning':\\n\", vector)"
   ]
  },
  {
   "cell_type": "markdown",
   "metadata": {},
   "source": [
    "##### El truco del kernel: Transformando datos no lineales\n",
    "\n",
    "El truco del kernel permite a los algoritmos de aprendizaje, como las máquinas de vectores de soporte (SVM), manejar problemas no lineales transformando los datos a un espacio de mayor dimensión donde se puedan aplicar técnicas lineales. Esto se logra sin calcular explícitamente las transformaciones, usando funciones kernel."
   ]
  },
  {
   "cell_type": "code",
   "execution_count": 22,
   "metadata": {},
   "outputs": [
    {
     "data": {
      "image/png": "[encoded data removed]",
      "text/plain": [
       "<Figure size 640x480 with 1 Axes>"
      ]
     },
     "metadata": {},
     "output_type": "display_data"
    }
   ],
   "source": [
    "from sklearn import svm\n",
    "from sklearn.datasets import make_circles\n",
    "import matplotlib.pyplot as plt\n",
    "\n",
    "# Generar un conjunto de datos no lineal\n",
    "X, y = make_circles(n_samples=100, factor=0.3, noise=0.1)\n",
    "\n",
    "# Entrenar una SVM con un kernel no lineal\n",
    "clf = svm.SVC(kernel='rbf', gamma='auto')\n",
    "clf.fit(X, y)\n",
    "\n",
    "# Visualización de la clasificación\n",
    "plt.scatter(X[:, 0], X[:, 1], c=y, cmap='winter')\n",
    "plt.title(\"Clasificación con SVM Kernel\")\n",
    "plt.show()\n"
   ]
  },
  {
   "cell_type": "markdown",
   "metadata": {},
   "source": [
    "### 0.2.2. Cálculo: El Motor del Aprendizaje\n",
    "\n",
    "El cálculo proporciona las herramientas necesarias para optimizar funciones y modelar cambios continuos, ambos elementos esenciales en el entrenamiento de modelos de aprendizaje automático.\n",
    "\n",
    "#### 0.2.2.1. Derivadas: Encontrando el camino óptimo\n",
    "\n",
    "##### Gradiente descendente: Cómo las redes neuronales \"aprenden\"\n",
    "\n",
    "El gradiente descendente es un algoritmo de optimización que ajusta los parámetros de un modelo para minimizar una función de pérdida. En el contexto de redes neuronales, se calcula el gradiente de la función de pérdida respecto a los pesos de la red y se actualizan los pesos en la dirección opuesta al gradiente para reducir el error.\n"
   ]
  },
  {
   "cell_type": "code",
   "execution_count": 23,
   "metadata": {},
   "outputs": [
    {
     "name": "stdout",
     "output_type": "stream",
     "text": [
      "Peso optimizado: 2.9999999993888893\n"
     ]
    }
   ],
   "source": [
    "import numpy as np\n",
    "\n",
    "# Función de pérdida (ejemplo simple)\n",
    "def loss(w):\n",
    "    return (w - 3)**2\n",
    "\n",
    "# Derivada de la función de pérdida\n",
    "def gradient(w):\n",
    "    return 2 * (w - 3)\n",
    "\n",
    "# Algoritmo de gradiente descendente\n",
    "w = 0  # Inicialización del peso\n",
    "learning_rate = 0.1\n",
    "for _ in range(100):\n",
    "    w = w - learning_rate * gradient(w)\n",
    "print(\"Peso optimizado:\", w)\n"
   ]
  },
  {
   "cell_type": "markdown",
   "metadata": {},
   "source": [
    "\n",
    "##### La paradoja de la ballena azul y la optimización\n",
    "\n",
    "La optimización puede ser contraintuitiva. Imaginemos que estamos tratando de encontrar el punto más bajo en un paisaje lleno de colinas y valles. A veces, como en el caso de la \"paradoja de la ballena azul\", podemos encontrar soluciones que parecen óptimas localmente pero no lo son globalmente. En Machine Learning, esto se aborda utilizando técnicas como la inicialización aleatoria y algoritmos avanzados de optimización.\n",
    "\n",
    "#### 0.2.2.2. Integrales: Sumando infinitos pequeños\n",
    "\n",
    "##### Monte Carlo: Integrando con dados y adivinando π\n",
    "\n",
    "El método de Monte Carlo es una técnica de integración numérica que utiliza la aleatoriedad para estimar valores de integrales complejas. Por ejemplo, se puede estimar el valor de π generando puntos aleatorios dentro de un cuadrado y contando cuántos caen dentro de un cuarto de círculo inscrito en ese cuadrado."
   ]
  },
  {
   "cell_type": "code",
   "execution_count": 24,
   "metadata": {},
   "outputs": [
    {
     "name": "stdout",
     "output_type": "stream",
     "text": [
      "Estimación de π: 3.1458\n"
     ]
    }
   ],
   "source": [
    "import numpy as np\n",
    "\n",
    "# Método de Monte Carlo para estimar π\n",
    "n_points = 100000\n",
    "inside_circle = 0\n",
    "\n",
    "for _ in range(n_points):\n",
    "    x, y = np.random.rand(2)\n",
    "    if x**2 + y**2 <= 1:\n",
    "        inside_circle += 1\n",
    "\n",
    "pi_estimate = (inside_circle / n_points) * 4\n",
    "print(\"Estimación de π:\", pi_estimate)\n"
   ]
  },
  {
   "cell_type": "markdown",
   "metadata": {},
   "source": [
    "\n",
    "##### Transformada de Fourier: De señales de audio a espectrogramas\n",
    "\n",
    "La transformada de Fourier es una herramienta poderosa para analizar funciones y señales en términos de sus frecuencias componentes. Convierte una señal del dominio del tiempo al dominio de la frecuencia, permitiendo aplicaciones en procesamiento de señales, como la compresión de audio y el análisis de espectros."
   ]
  },
  {
   "cell_type": "code",
   "execution_count": 25,
   "metadata": {},
   "outputs": [
    {
     "data": {
      "image/png": "[encoded data removed]",
      "text/plain": [
       "<Figure size 640x480 with 1 Axes>"
      ]
     },
     "metadata": {},
     "output_type": "display_data"
    }
   ],
   "source": [
    "import numpy as np\n",
    "import matplotlib.pyplot as plt\n",
    "\n",
    "# Generar una señal de ejemplo (suma de dos sinusoides)\n",
    "t = np.linspace(0, 1, 500)\n",
    "signal = np.sin(2 * np.pi * 50 * t) + np.sin(2 * np.pi * 120 * t)\n",
    "\n",
    "# Aplicar la transformada de Fourier\n",
    "fft_signal = np.fft.fft(signal)\n",
    "frequencies = np.fft.fftfreq(len(signal), t[1] - t[0])\n",
    "\n",
    "# Visualizar el espectro de frecuencias\n",
    "plt.plot(frequencies, np.abs(fft_signal))\n",
    "plt.title(\"Espectro de Frecuencias\")\n",
    "plt.xlabel(\"Frecuencia (Hz)\")\n",
    "plt.ylabel(\"Amplitud\")\n",
    "plt.show()\n"
   ]
  },
  {
   "cell_type": "markdown",
   "metadata": {},
   "source": [
    "\n",
    "\n",
    "La transformada de Fourier no solo se utiliza en análisis de señales de audio, sino también en una amplia variedad de aplicaciones, desde el procesamiento de imágenes hasta la solución de ecuaciones diferenciales en física e ingeniería. Permite descomponer una señal compleja en sus componentes fundamentales, proporcionando una visión clara de las características de la señal que pueden no ser evidentes en el dominio del tiempo. Por ejemplo, en el análisis de señales de audio, la transformada de Fourier ayuda a identificar las frecuencias"
   ]
  },
  {
   "cell_type": "markdown",
   "metadata": {},
   "source": [
    "## 0.3. Datos Curiosos y Aplicaciones Sorprendentes\n",
    "\n",
    "El Machine Learning (ML) y la Data Science no son solo campos fascinantes en la teoría, sino que también tienen aplicaciones prácticas que afectan nuestra vida diaria de maneras a veces inesperadas. En esta sección, exploraremos cómo estas tecnologías están integradas en nuestra vida cotidiana y cómo están contribuyendo a resolver algunos de los mayores desafíos del mundo.\n",
    "\n",
    "### 0.3.1. Machine Learning en la Vida Cotidiana\n",
    "\n",
    "#### 0.3.1.1. Tecnología que parece magia\n",
    "\n",
    "##### Filtros de Snapchat: Geometría computacional en tu cara\n",
    "\n",
    "Los filtros de Snapchat son un ejemplo perfecto de cómo el Machine Learning y la geometría computacional pueden crear experiencias que parecen mágicas. Estos filtros utilizan algoritmos avanzados para detectar y rastrear las características faciales en tiempo real. La tecnología detrás de esto se llama \"landmark detection\" (detección de puntos clave), que identifica puntos específicos en una cara, como los ojos, la nariz y la boca.\n",
    "\n",
    "Una vez que se identifican estos puntos, los filtros aplican transformaciones geométricas para ajustar efectos, máscaras y otros elementos gráficos en la cara del usuario. Esto implica una combinación de técnicas de visión por computadora, como la detección de bordes y la estimación de pose. \n",
    "\n",
    "Por ejemplo, un filtro que añade orejas de perro y una lengua se basa en la posición y el movimiento de la boca para animar la lengua cuando el usuario abre la boca. Esto se hace mediante la proyección de los puntos clave faciales en una malla tridimensional que puede ser manipulada para que los elementos gráficos se integren de manera realista.\n",
    "\n",
    "##### Siri y Alexa: Asistentes virtuales que entienden (casi) todo\n",
    "\n",
    "Los asistentes virtuales como Siri de Apple y Alexa de Amazon son ejemplos sobresalientes de la aplicación del procesamiento del lenguaje natural (NLP) y el aprendizaje automático. Estos sistemas pueden comprender y responder a comandos de voz, realizar tareas y proporcionar información de manera eficiente.\n",
    "\n",
    "El proceso comienza con la captura de la voz del usuario mediante micrófonos avanzados que filtran el ruido de fondo. Luego, se convierte el audio en texto utilizando técnicas de reconocimiento de voz. Aquí es donde el Machine Learning entra en juego. Modelos como el Deep Speech de Mozilla utilizan redes neuronales recurrentes (RNN) para transcribir el habla en texto con alta precisión.\n",
    "\n",
    "Una vez convertido en texto, el sistema aplica NLP para interpretar el significado de la consulta. Esto incluye la identificación de la intención del usuario (intents) y la extracción de entidades clave (entities). Por ejemplo, si un usuario dice \"¿Cuál es el clima hoy?\", el sistema reconoce la intención de buscar información sobre el clima y la entidad \"hoy\" como un marcador temporal.\n",
    "\n",
    "Finalmente, el sistema genera una respuesta adecuada, que puede ser una simple consulta a una base de datos o una acción más compleja como controlar dispositivos inteligentes en el hogar. La respuesta se convierte de nuevo en audio utilizando tecnologías de síntesis de voz, creando una experiencia de interacción fluida.\n",
    "\n",
    "#### 0.3.1.2. ML donde menos te lo esperas\n",
    "\n",
    "##### Tinder: Algoritmos de matching para encontrar el amor\n",
    "\n",
    "Tinder, la popular aplicación de citas, utiliza algoritmos de Machine Learning para mejorar las posibilidades de encontrar una pareja compatible. Los algoritmos de Tinder analizan el comportamiento del usuario, como los perfiles que deslizan a la derecha o a la izquierda, el tiempo que pasan mirando perfiles y las conversaciones que tienen.\n",
    "\n",
    "Estos datos se utilizan para entrenar modelos de aprendizaje supervisado que predicen a qué perfiles un usuario puede responder favorablemente. Además, Tinder emplea técnicas de filtrado colaborativo, similares a las utilizadas por plataformas como Netflix y Amazon, para recomendar perfiles basados en las preferencias de usuarios con comportamientos similares.\n",
    "\n",
    "El proceso también incluye el uso de redes neuronales para analizar fotos y descripciones, ayudando a identificar patrones que pueden ser atractivos para otros usuarios. Esto no solo mejora la experiencia del usuario, sino que también optimiza la eficiencia del sistema, asegurando que los perfiles más relevantes se muestren con mayor frecuencia.\n",
    "\n",
    "##### Spotify: Descubrimiento semanal y la personalización musical\n",
    "\n",
    "Spotify utiliza una combinación de técnicas de Machine Learning para personalizar la experiencia musical de sus usuarios. Una de las características más populares de Spotify es el \"Descubrimiento Semanal\", una lista de reproducción personalizada que se actualiza cada lunes con canciones que el usuario probablemente disfrutará.\n",
    "\n",
    "El algoritmo detrás de esto combina tres enfoques principales: filtrado colaborativo, análisis de contenido y análisis de metadatos. El filtrado colaborativo se basa en el comportamiento de usuarios similares, recomendando canciones que han sido populares entre personas con gustos musicales parecidos.\n",
    "\n",
    "El análisis de contenido examina las características de las canciones, como el tempo, el género, el tono y las letras, utilizando redes neuronales convolucionales (CNN) para extraer características significativas. El análisis de metadatos incorpora información adicional como el artista, el álbum y la popularidad de la canción.\n",
    "\n",
    "Juntos, estos enfoques crean una experiencia de descubrimiento musical altamente personalizada, ayudando a los usuarios a encontrar nueva música que de otro modo podrían haber pasado por alto.\n",
    "\n",
    "### 0.3.2. Data Science Salvando el Mundo\n",
    "\n",
    "#### 0.3.2.1. Medicina y salud\n",
    "\n",
    "##### Detección temprana de cáncer con Deep Learning\n",
    "\n",
    "La detección temprana de cáncer es crucial para mejorar las tasas de supervivencia, y el Deep Learning ha demostrado ser una herramienta poderosa en este campo. Modelos de redes neuronales convolucionales (CNN) se han utilizado para analizar imágenes médicas, como mamografías, tomografías computarizadas y resonancias magnéticas, para identificar signos tempranos de cáncer.\n",
    "\n",
    "Estos modelos se entrenan con grandes conjuntos de datos de imágenes etiquetadas, donde los expertos han marcado las áreas que contienen tumores. Una vez entrenados, los modelos pueden detectar patrones sutiles en las imágenes que pueden no ser evidentes para los radiólogos humanos.\n",
    "\n",
    "Por ejemplo, un modelo de CNN puede analizar una mamografía y destacar áreas sospechosas que requieren más atención. Estos sistemas pueden servir como una segunda opinión para los médicos, ayudando a reducir el riesgo de errores y asegurando que los pacientes reciban diagnósticos precisos más rápidamente.\n",
    "\n",
    "Además, los avances en la interpretación de imágenes mediante Deep Learning están facilitando el desarrollo de sistemas de diagnóstico automatizados que pueden operar en entornos con recursos limitados, proporcionando acceso a una atención médica de calidad en regiones desfavorecidas.\n",
    "\n",
    "##### Predicción de pandemias: De Google Flu Trends a COVID-19\n",
    "\n",
    "La predicción de pandemias es otro campo donde la ciencia de datos ha tenido un impacto significativo. Google Flu Trends fue uno de los primeros intentos en utilizar datos de búsqueda en línea para estimar la actividad de la gripe en tiempo real. Aunque el proyecto fue discontinuado, sentó las bases para el uso de grandes datos en la vigilancia de enfermedades.\n",
    "\n",
    "Con la llegada de la pandemia de COVID-19, los modelos de Machine Learning han desempeñado un papel crucial en la predicción y gestión de la propagación del virus. Estos modelos utilizan datos de movilidad, interacciones sociales, y patrones de infección para prever cómo y dónde se propagarán los brotes.\n",
    "\n",
    "Los datos se recopilan de diversas fuentes, incluidos informes de salud pública, datos de redes sociales y registros médicos. Los modelos de Machine Learning, como las redes neuronales recurrentes (RNN) y las redes de estado de largo corto plazo (LSTM), se utilizan para analizar estos datos y generar predicciones precisas.\n",
    "\n",
    "Además, la ciencia de datos ha sido fundamental en el desarrollo y distribución de vacunas. Modelos avanzados han ayudado a optimizar la logística de la cadena de suministro, asegurando que las vacunas lleguen a las poblaciones vulnerables de manera eficiente y oportuna.\n",
    "\n",
    "#### 0.3.2.2. Medio ambiente y sostenibilidad\n",
    "\n",
    "##### Monitoreo de deforestación con imágenes satelitales\n",
    "\n",
    "El monitoreo de la deforestación es esencial para la conservación del medio ambiente, y la tecnología de imágenes satelitales combinada con el Machine Learning ha transformado este proceso. Imágenes de satélite de alta resolución proporcionan datos detallados sobre cambios en la cobertura forestal en todo el mundo.\n",
    "\n",
    "Modelos de aprendizaje profundo, como las redes neuronales convolucionales (CNN), se utilizan para analizar estas imágenes y detectar áreas donde se ha producido la deforestación. Estos modelos pueden diferenciar entre distintos tipos de cobertura del suelo, como bosques, cultivos y áreas urbanas, permitiendo un seguimiento preciso de los cambios a lo largo del tiempo.\n",
    "\n",
    "Además, la integración de datos geoespaciales y algoritmos de Machine Learning permite predecir las áreas más vulnerables a la deforestación futura, ayudando a las organizaciones a implementar medidas preventivas de manera más efectiva.\n",
    "\n",
    "##### Optimización de rutas para reducir emisiones de CO2\n",
    "\n",
    "La optimización de rutas es otra área donde la ciencia de datos está ayudando a combatir el cambio climático. Las empresas de logística y transporte utilizan algoritmos de optimización para planificar rutas de entrega que minimicen las distancias recorridas y, por lo tanto, las emisiones de CO2.\n",
    "\n",
    "Técnicas como los algoritmos genéticos y el aprendizaje por refuerzo se aplican para encontrar las rutas más eficientes. Estos modelos consideran factores como el tráfico, las condiciones de la carretera y la capacidad de carga de los vehículos para generar planes de ruta óptimos.\n",
    "\n",
    "Por ejemplo, Amazon utiliza estos algoritmos para planificar sus entregas diarias, asegurando que los paquetes lleguen a sus destinos de manera eficiente mientras se reduce el impacto ambiental. Este enfoque no solo ahorra costos operativos sino que también contribuye significativamente a la sostenibilidad ambiental.\n",
    "\n",
    "El Machine Learning y la  ciencia de datos están revolucionando múltiples aspectos de nuestra vida cotidiana y desempeñando un papel crucial en la resolución de problemas globales. Desde la personalización de experiencias digitales hasta la mejora de la salud pública y la protección del medio ambiente, estas tecnologías están transformando el mundo de maneras profundas y duraderas."
   ]
  },
  {
   "cell_type": "markdown",
   "metadata": {},
   "source": [
    "## 0.4. Desafíos y Juegos para Despertar tu Intuición\n",
    "\n",
    "Los desafíos y juegos son herramientas poderosas para desarrollar una comprensión profunda y práctica de conceptos estadísticos y de Machine Learning. Esta sección ofrece una serie de ejercicios y actividades interactivas diseñadas para hacer que los conceptos complejos sean más accesibles y comprensibles.\n",
    "\n",
    "### 0.4.1. Rompecabezas Estadísticos\n",
    "\n",
    "#### 0.4.1.1. La paradoja de Simpson\n",
    "\n",
    "##### Cuando agrupar datos lleva a conclusiones opuestas\n",
    "\n",
    "La paradoja de Simpson es un fenómeno en estadística donde una tendencia observada en varios grupos individuales desaparece o se invierte cuando estos grupos se combinan. Este fenómeno puede llevar a conclusiones incorrectas si no se analizan adecuadamente las subpoblaciones.\n",
    "\n",
    "Consideremos un ejemplo clásico de la paradoja de Simpson: la tasa de éxito de un tratamiento médico. Supongamos que hay dos hospitales, A y B, y cada uno trata tanto a pacientes leves como graves.\n"
   ]
  },
  {
   "cell_type": "code",
   "execution_count": 26,
   "metadata": {},
   "outputs": [
    {
     "name": "stdout",
     "output_type": "stream",
     "text": [
      "Tasas de éxito individuales:\n",
      "   Hospital Condition  Successes  Failures  Success Rate\n",
      "0        A      Leve         80        20           0.8\n",
      "1        A     Grave         20        80           0.2\n",
      "2        B      Leve         70        30           0.7\n",
      "3        B     Grave         30        70           0.3\n",
      "\n",
      "Tasa de éxito combinada: 0.5\n"
     ]
    }
   ],
   "source": [
    "import pandas as pd\n",
    "\n",
    "# Datos de ejemplo\n",
    "data = {\n",
    "    'Hospital': ['A', 'A', 'B', 'B'],\n",
    "    'Condition': ['Leve', 'Grave', 'Leve', 'Grave'],\n",
    "    'Successes': [80, 20, 70, 30],\n",
    "    'Failures': [20, 80, 30, 70]\n",
    "}\n",
    "\n",
    "df = pd.DataFrame(data)\n",
    "\n",
    "# Calcular las tasas de éxito individuales\n",
    "df['Success Rate'] = df['Successes'] / (df['Successes'] + df['Failures'])\n",
    "\n",
    "# Calcular la tasa de éxito combinada\n",
    "total_successes = df['Successes'].sum()\n",
    "total_failures = df['Failures'].sum()\n",
    "overall_success_rate = total_successes / (total_successes + total_failures)\n",
    "\n",
    "# Mostrar los resultados\n",
    "print(\"Tasas de éxito individuales:\\n\", df)\n",
    "print(\"\\nTasa de éxito combinada:\", overall_success_rate)\n"
   ]
  },
  {
   "cell_type": "markdown",
   "metadata": {},
   "source": [
    "En este ejemplo, la tasa de éxito combinada podría mostrar que el Hospital A tiene un mejor rendimiento general, pero cuando se desglosan los datos por condición del paciente, se puede observar que el Hospital B es superior en ambos casos. Esta discrepancia destaca la importancia de analizar los datos en niveles desagregados para evitar conclusiones erróneas.\n",
    "\n",
    "#### 0.4.1.2. El problema del cumpleaños\n",
    "\n",
    "##### Probabilidades contraintuitivas en un salón de clases\n",
    "\n",
    "El problema del cumpleaños es un famoso problema en teoría de probabilidades que pregunta cuántas personas se necesitan en una habitación para que haya una probabilidad superior al 50% de que al menos dos personas compartan el mismo cumpleaños. La respuesta sorprende a muchos: solo se necesitan 23 personas.\n",
    "\n",
    "Para entender esto, podemos simularlo utilizando Python:"
   ]
  },
  {
   "cell_type": "code",
   "execution_count": 27,
   "metadata": {},
   "outputs": [
    {
     "name": "stdout",
     "output_type": "stream",
     "text": [
      "Probabilidad de compartir cumpleaños con 23 personas: 0.50\n"
     ]
    }
   ],
   "source": [
    "import numpy as np\n",
    "\n",
    "# Función para simular el problema del cumpleaños\n",
    "def birthday_simulation(num_people, num_simulations):\n",
    "    matches = 0\n",
    "    for _ in range(num_simulations):\n",
    "        birthdays = np.random.randint(0, 365, num_people)\n",
    "        if len(birthdays) != len(set(birthdays)):\n",
    "            matches += 1\n",
    "    return matches / num_simulations\n",
    "\n",
    "# Simulación con 23 personas y 10000 repeticiones\n",
    "probability = birthday_simulation(23, 10000)\n",
    "print(f\"Probabilidad de compartir cumpleaños con 23 personas: {probability:.2f}\")"
   ]
  },
  {
   "cell_type": "markdown",
   "metadata": {},
   "source": [
    "La intuición puede fallar al enfrentar problemas probabilísticos como este, lo que subraya la importancia de herramientas estadísticas y simulaciones para una comprensión más precisa.\n",
    "\n",
    "### 0.4.2. Experimentos Interactivos\n",
    "\n",
    "#### 0.4.2.1. Construye tu propio clasificador\n",
    "\n",
    "##### Juego: Enseña a una IA a distinguir perros de gatos\n",
    "\n",
    "Para profundizar en el aprendizaje supervisado, una actividad interactiva puede ser construir un clasificador para distinguir entre imágenes de perros y gatos. Este ejercicio no solo ayudará a entender cómo funcionan los clasificadores, sino también los pasos involucrados en el preprocesamiento de datos, entrenamiento del modelo y evaluación del rendimiento."
   ]
  },
  {
   "cell_type": "code",
   "execution_count": 28,
   "metadata": {},
   "outputs": [
    {
     "data": {
      "image/png": "[encoded data removed]",
      "text/plain": [
       "<Figure size 640x480 with 1 Axes>"
      ]
     },
     "metadata": {},
     "output_type": "display_data"
    },
    {
     "name": "stdout",
     "output_type": "stream",
     "text": [
      "Precisión del clasificador: 30.00%\n"
     ]
    }
   ],
   "source": [
    "import numpy as np\n",
    "import matplotlib.pyplot as plt\n",
    "from sklearn.model_selection import train_test_split\n",
    "from sklearn.linear_model import LogisticRegression\n",
    "from sklearn.metrics import accuracy_score\n",
    "\n",
    "# Generar datos de ejemplo (imágenes simples de perros y gatos)\n",
    "# Aquí usamos datos sintéticos para simplificar\n",
    "np.random.seed(0)\n",
    "num_samples = 100\n",
    "X = np.random.randn(num_samples, 2)\n",
    "y = np.random.randint(0, 2, num_samples)\n",
    "\n",
    "# Visualizar los datos\n",
    "plt.scatter(X[y == 0][:, 0], X[y == 0][:, 1], color='blue', label='Gato')\n",
    "plt.scatter(X[y == 1][:, 0], X[y == 1][:, 1], color='red', label='Perro')\n",
    "plt.legend()\n",
    "plt.title('Datos de Perros y Gatos')\n",
    "plt.show()\n",
    "\n",
    "# Dividir los datos en conjuntos de entrenamiento y prueba\n",
    "X_train, X_test, y_train, y_test = train_test_split(X, y, test_size=0.2, random_state=42)\n",
    "\n",
    "# Entrenar un modelo de regresión logística\n",
    "model = LogisticRegression()\n",
    "model.fit(X_train, y_train)\n",
    "\n",
    "# Hacer predicciones y evaluar el modelo\n",
    "y_pred = model.predict(X_test)\n",
    "accuracy = accuracy_score(y_test, y_pred)\n",
    "print(f\"Precisión del clasificador: {accuracy * 100:.2f}%\")"
   ]
  },
  {
   "cell_type": "markdown",
   "metadata": {},
   "source": [
    "Este ejercicio muestra cómo transformar datos en información útil mediante algoritmos de Machine Learning. A través de este proceso, se desarrollan habilidades en preprocesamiento de datos, selección de modelos y evaluación de resultados.\n",
    "\n",
    "#### 0.4.2.2. Visualización de algoritmos\n",
    "\n",
    "##### Explora cómo aprende una red neuronal en tiempo real\n",
    "\n",
    "Visualizar cómo una red neuronal aprende y ajusta sus parámetros durante el entrenamiento puede ser una experiencia reveladora. Existen herramientas interactivas que permiten observar estos procesos en tiempo real, ayudando a construir una intuición sobre cómo los modelos de aprendizaje profundo optimizan sus pesos para minimizar la función de pérdida.\n",
    "\n",
    "Por ejemplo, se puede utilizar TensorFlow Playground, una herramienta interactiva basada en la web, para visualizar el entrenamiento de una red neuronal:\n",
    "\n",
    "```python\n",
    "# TensorFlow Playground es una herramienta basada en web y no se puede ejecutar en este entorno de código.\n",
    "\n",
    "# Visita: https://playground.tensorflow.org/\n",
    "# En TensorFlow Playground, puedes configurar una red neuronal simple y observar cómo los pesos se actualizan durante el entrenamiento.\n",
    "# Puedes experimentar con diferentes arquitecturas de red, tasas de aprendizaje y funciones de activación.\n",
    "```\n",
    "\n",
    "TensorFlow Playground permite experimentar con diferentes parámetros y observar cómo afectan el proceso de entrenamiento. Puedes ajustar la arquitectura de la red, cambiar las tasas de aprendizaje y elegir diferentes funciones de activación para ver cómo estas decisiones influyen en el rendimiento del modelo.\n",
    "\n",
    "Además de herramientas como TensorFlow Playground, puedes implementar visualizaciones interactivas en Python utilizando bibliotecas como `matplotlib` y `seaborn` para trazar el progreso del entrenamiento:"
   ]
  },
  {
   "cell_type": "code",
   "execution_count": 29,
   "metadata": {},
   "outputs": [
    {
     "name": "stdout",
     "output_type": "stream",
     "text": [
      "Epoch 1/5\n"
     ]
    },
    {
     "name": "stderr",
     "output_type": "stream",
     "text": [
      "c:\\Users\\JavierVelosoRios\\AppData\\Local\\Programs\\Python\\Python311\\Lib\\site-packages\\keras\\src\\layers\\core\\dense.py:87: UserWarning: Do not pass an `input_shape`/`input_dim` argument to a layer. When using Sequential models, prefer using an `Input(shape)` object as the first layer in the model instead.\n",
      "  super().__init__(activity_regularizer=activity_regularizer, **kwargs)\n"
     ]
    },
    {
     "name": "stdout",
     "output_type": "stream",
     "text": [
      "\u001b[1m375/375\u001b[0m \u001b[32m━━━━━━━━━━━━━━━━━━━━\u001b[0m\u001b[37m\u001b[0m \u001b[1m2s\u001b[0m 4ms/step - accuracy: 0.8579 - loss: 0.4913 - val_accuracy: 0.9503 - val_loss: 0.1614\n",
      "Epoch 2/5\n",
      "\u001b[1m375/375\u001b[0m \u001b[32m━━━━━━━━━━━━━━━━━━━━\u001b[0m\u001b[37m\u001b[0m \u001b[1m1s\u001b[0m 3ms/step - accuracy: 0.9597 - loss: 0.1375 - val_accuracy: 0.9659 - val_loss: 0.1154\n",
      "Epoch 3/5\n",
      "\u001b[1m375/375\u001b[0m \u001b[32m━━━━━━━━━━━━━━━━━━━━\u001b[0m\u001b[37m\u001b[0m \u001b[1m1s\u001b[0m 3ms/step - accuracy: 0.9750 - loss: 0.0870 - val_accuracy: 0.9709 - val_loss: 0.0961\n",
      "Epoch 4/5\n",
      "\u001b[1m375/375\u001b[0m \u001b[32m━━━━━━━━━━━━━━━━━━━━\u001b[0m\u001b[37m\u001b[0m \u001b[1m1s\u001b[0m 3ms/step - accuracy: 0.9830 - loss: 0.0608 - val_accuracy: 0.9760 - val_loss: 0.0802\n",
      "Epoch 5/5\n",
      "\u001b[1m375/375\u001b[0m \u001b[32m━━━━━━━━━━━━━━━━━━━━\u001b[0m\u001b[37m\u001b[0m \u001b[1m1s\u001b[0m 4ms/step - accuracy: 0.9876 - loss: 0.0427 - val_accuracy: 0.9780 - val_loss: 0.0758\n"
     ]
    },
    {
     "data": {
      "image/png": "[encoded data removed]",
      "text/plain": [
       "<Figure size 640x480 with 1 Axes>"
      ]
     },
     "metadata": {},
     "output_type": "display_data"
    }
   ],
   "source": [
    "import numpy as np\n",
    "import matplotlib.pyplot as plt\n",
    "from keras.models import Sequential\n",
    "from keras.layers import Dense\n",
    "from keras.datasets import mnist\n",
    "from keras.utils import to_categorical\n",
    "\n",
    "# Cargar datos de MNIST\n",
    "(train_images, train_labels), (test_images, test_labels) = mnist.load_data()\n",
    "train_images = train_images.reshape((60000, 28 * 28)).astype('float32') / 255\n",
    "test_images = test_images.reshape((10000, 28 * 28)).astype('float32') / 255\n",
    "train_labels = to_categorical(train_labels)\n",
    "test_labels = to_categorical(test_labels)\n",
    "\n",
    "# Crear un modelo de red neuronal simple\n",
    "model = Sequential()\n",
    "model.add(Dense(512, activation='relu', input_shape=(28 * 28,)))\n",
    "model.add(Dense(10, activation='softmax'))\n",
    "model.compile(optimizer='rmsprop', loss='categorical_crossentropy', metrics=['accuracy'])\n",
    "\n",
    "# Entrenar el modelo y guardar el historial\n",
    "history = model.fit(train_images, train_labels, epochs=5, batch_size=128, validation_split=0.2)\n",
    "\n",
    "# Visualizar la pérdida y precisión del entrenamiento\n",
    "plt.plot(history.history['accuracy'], label='Precisión del entrenamiento')\n",
    "plt.plot(history.history['val_accuracy'], label='Precisión de la validación')\n",
    "plt.xlabel('Época')\n",
    "plt.ylabel('Precisión')\n",
    "plt.legend()\n",
    "plt.show()"
   ]
  },
  {
   "cell_type": "markdown",
   "metadata": {},
   "source": [
    "En este ejemplo, se entrena un modelo simple de red neuronal en el conjunto de datos MNIST y se visualiza la precisión del entrenamiento y la validación a lo largo de las épocas. Esta visualización ayuda a entender cómo el modelo mejora con el tiempo y cómo diferentes factores afectan su rendimiento.\n",
    "\n",
    "Al explorar estos desafíos y juegos interactivos, los estudiantes pueden desarrollar una intuición más profunda y práctica sobre los conceptos clave de estadística y Machine Learning, haciendo que el aprendizaje sea tanto educativo como divertido."
   ]
  },
  {
   "cell_type": "markdown",
   "metadata": {},
   "source": [
    "## 0.5. El Futuro: Horizontes Inexplorados\n",
    "\n",
    "El futuro de la inteligencia artificial (IA) y el aprendizaje automático (ML) está lleno de posibilidades emocionantes y desafíos éticos complejos. Esta sección explora los avances emergentes y las implicaciones de la tecnología en el mundo real, proporcionando una visión de los horizontes inexplorados de la IA y la computación cuántica.\n",
    "\n",
    "### 0.5.1. Inteligencia Artificial General\n",
    "\n",
    "La Inteligencia Artificial General (IAG) se refiere a una inteligencia artificial que puede entender, aprender y aplicar conocimientos en múltiples dominios, similar a la inteligencia humana. A diferencia de la IA estrecha, que está diseñada para tareas específicas, la IAG aspira a una flexibilidad y adaptabilidad generalizadas.\n",
    "\n",
    "#### 0.5.1.1. El test de Turing y más allá\n",
    "\n",
    "##### ¿Podrán las máquinas realmente pensar?\n",
    "\n",
    "El Test de Turing, propuesto por Alan Turing en 1950, es una medida clásica para determinar si una máquina puede exhibir un comportamiento inteligente indistinguible del de un humano. En este test, un evaluador interactúa con una máquina y un humano sin saber cuál es cuál, y si el evaluador no puede distinguir consistentemente entre ellos, la máquina pasa el test.\n",
    "\n",
    "Aunque algunas máquinas han superado versiones limitadas del Test de Turing, la verdadera IAG implica mucho más que engañar a un humano en una conversación. Requiere la capacidad de razonamiento, planificación, aprendizaje, procesamiento del lenguaje natural, percepción y la capacidad de mover y manipular objetos en el mundo.\n",
    "\n",
    "Uno de los mayores desafíos en el desarrollo de la IAG es la comprensión y la emulación de la conciencia y la creatividad humanas. Esto incluye:\n",
    "\n",
    "- **Razonamiento y Planificación**: La habilidad de resolver problemas complejos, anticipar consecuencias y desarrollar estrategias.\n",
    "- **Aprendizaje Autónomo**: Adaptarse y aprender de nuevas experiencias sin intervención humana.\n",
    "- **Percepción y Sensomotricidad**: Interactuar de manera significativa con el entorno físico, comprendiendo y manipulando objetos.\n",
    "- **Emociones y Empatía**: Simular o incluso experimentar emociones humanas para interactuar de manera más natural con las personas.\n",
    "\n",
    "A pesar de los avances significativos en IA, alcanzar una verdadera IAG aún es un objetivo distante. Los sistemas actuales de IA, como los chatbots avanzados y los asistentes virtuales, son poderosos pero están limitados a dominios específicos y carecen de la flexibilidad y adaptabilidad de la inteligencia humana.\n",
    "\n",
    "#### 0.5.1.2. Ética y responsabilidad\n",
    "\n",
    "##### El dilema del tranvía: Decisiones éticas para coches autónomos\n",
    "\n",
    "El dilema del tranvía es un famoso experimento de pensamiento ético que plantea una situación en la que una persona debe decidir entre dos opciones, ambas con consecuencias negativas. En el contexto de los coches autónomos, este dilema se traduce en decisiones que las máquinas deben tomar en situaciones de emergencia.\n",
    "\n",
    "Imaginemos un coche autónomo que debe elegir entre atropellar a un peatón o desviarse y poner en peligro a sus pasajeros. Este tipo de decisiones plantea preguntas éticas complejas:\n",
    "\n",
    "- **Valor de la Vida**: ¿Cómo debe una máquina evaluar el valor de la vida de diferentes individuos? ¿Debe priorizar a los peatones sobre los pasajeros o viceversa?\n",
    "- **Responsabilidad**: ¿Quién es responsable de las decisiones tomadas por una máquina autónoma? ¿El fabricante del coche, el programador del software, o el usuario?\n",
    "- **Transparencia**: ¿Cómo se pueden asegurar que las decisiones tomadas por algoritmos sean transparentes y comprensibles para los humanos?\n",
    "\n",
    "Estos dilemas resaltan la necesidad de una sólida base ética en el desarrollo y la implementación de tecnologías de IA. Los desarrolladores deben considerar cuidadosamente los impactos sociales y morales de sus creaciones y trabajar en colaboración con expertos en ética, reguladores y la sociedad en general para garantizar que las tecnologías avanzadas sean beneficiosas y justas para todos.\n",
    "\n",
    "### 0.5.2. Computación Cuántica y Machine Learning\n",
    "\n",
    "La computación cuántica promete revolucionar el campo de la IA y el ML al proporcionar una capacidad de procesamiento exponencialmente superior a la de las computadoras clásicas. Este avance se basa en principios de la física cuántica que permiten nuevas formas de manipular y almacenar información.\n",
    "\n",
    "#### 0.5.2.1. Qubits y superposición\n",
    "\n",
    "##### Cómo la física cuántica podría revolucionar el ML\n",
    "\n",
    "A diferencia de los bits clásicos, que pueden ser 0 o 1, los qubits (bits cuánticos) pueden existir en múltiples estados simultáneamente gracias a la superposición. Este fenómeno permite a las computadoras cuánticas procesar una enorme cantidad de información de manera paralela.\n",
    "\n",
    "La superposición y el entrelazamiento cuántico (otra propiedad clave) permiten a los qubits estar correlacionados de maneras que no tienen análogo en la computación clásica. Esto significa que una computadora cuántica puede explorar múltiples soluciones posibles a un problema al mismo tiempo, en lugar de de manera secuencial como una computadora clásica.\n",
    "\n",
    "Por ejemplo, en el contexto del ML, los algoritmos cuánticos pueden analizar grandes conjuntos de datos de manera mucho más eficiente, optimizando modelos de aprendizaje profundo y encontrando patrones que serían imposibles de detectar con las técnicas actuales.\n"
   ]
  },
  {
   "cell_type": "code",
   "execution_count": 32,
   "metadata": {},
   "outputs": [
    {
     "ename": "ImportError",
     "evalue": "cannot import name 'BasicAer' from 'qiskit' (c:\\Users\\JavierVelosoRios\\AppData\\Local\\Programs\\Python\\Python311\\Lib\\site-packages\\qiskit\\__init__.py)",
     "output_type": "error",
     "traceback": [
      "\u001b[1;31m---------------------------------------------------------------------------\u001b[0m",
      "\u001b[1;31mImportError\u001b[0m                               Traceback (most recent call last)",
      "Cell \u001b[1;32mIn[32], line 3\u001b[0m\n\u001b[0;32m      1\u001b[0m \u001b[38;5;66;03m# Código pseudocódigo para un algoritmo cuántico básico (por ejemplo, el algoritmo de Grover para búsqueda no estructurada)\u001b[39;00m\n\u001b[1;32m----> 3\u001b[0m \u001b[38;5;28;01mfrom\u001b[39;00m \u001b[38;5;21;01mqiskit\u001b[39;00m \u001b[38;5;28;01mimport\u001b[39;00m QuantumCircuit, BasicAer, execute\n\u001b[0;32m      5\u001b[0m \u001b[38;5;66;03m# Crear un circuito cuántico de 2 qubits\u001b[39;00m\n\u001b[0;32m      6\u001b[0m circuit \u001b[38;5;241m=\u001b[39m QuantumCircuit(\u001b[38;5;241m2\u001b[39m)\n",
      "\u001b[1;31mImportError\u001b[0m: cannot import name 'BasicAer' from 'qiskit' (c:\\Users\\JavierVelosoRios\\AppData\\Local\\Programs\\Python\\Python311\\Lib\\site-packages\\qiskit\\__init__.py)"
     ]
    }
   ],
   "source": [
    "# Código pseudocódigo para un algoritmo cuántico básico (por ejemplo, el algoritmo de Grover para búsqueda no estructurada)\n",
    "\n",
    "from qiskit import QuantumCircuit, BasicAer, execute\n",
    "\n",
    "# Crear un circuito cuántico de 2 qubits\n",
    "circuit = QuantumCircuit(2)\n",
    "\n",
    "# Aplicar la superposición\n",
    "circuit.h([0, 1])\n",
    "\n",
    "# Aplicar la función oracle (marcar la solución)\n",
    "circuit.cz(0, 1)\n",
    "\n",
    "# Aplicar la amplificación de amplitud\n",
    "circuit.h([0, 1])\n",
    "circuit.x([0, 1])\n",
    "circuit.h(1)\n",
    "circuit.cx(0, 1)\n",
    "circuit.h(1)\n",
    "circuit.x([0, 1])\n",
    "circuit.h([0, 1])\n",
    "\n",
    "# Ejecutar el circuito en un simulador cuántico\n",
    "simulator = Aer.get_backend('qasm_simulator')\n",
    "result = execute(circuit, simulator).result()\n",
    "\n",
    "# Obtener y mostrar los resultados\n",
    "counts = result.get_counts()\n",
    "print(\"Resultados:\", counts)"
   ]
  },
  {
   "cell_type": "markdown",
   "metadata": {},
   "source": [
    "#### 0.5.2.2. Algoritmos cuánticos\n",
    "\n",
    "##### Resolviendo problemas \"imposibles\" en segundos\n",
    "\n",
    "Los algoritmos cuánticos tienen el potencial de resolver problemas que son intratables para las computadoras clásicas. Algunos de los algoritmos más prometedores incluyen:\n",
    "\n",
    "- **Algoritmo de Shor**: Para la factorización de grandes números en tiempos polinomiales, lo que podría romper la criptografía actual basada en RSA.\n",
    "- **Algoritmo de Grover**: Ofrece una búsqueda cuadráticamente más rápida en bases de datos no estructuradas.\n",
    "- **Optimización Cuántica**: Utiliza el algoritmo de optimización variacional cuántica (QAOA) para resolver problemas de optimización combinatoria que son NP-duros.\n",
    "\n",
    "Estos algoritmos no solo aceleran el procesamiento de datos, sino que también abren nuevas fronteras en la simulación de sistemas físicos, la inteligencia artificial y otros campos científicos.\n",
    "\n",
    "Por ejemplo, en el ámbito de la química computacional, los algoritmos cuánticos pueden simular el comportamiento de moléculas complejas con una precisión sin precedentes. Esto podría conducir a descubrimientos revolucionarios en el desarrollo de nuevos medicamentos y materiales.\n",
    "\n",
    "Además, la integración de la computación cuántica con el ML puede permitir el desarrollo de modelos de IA más avanzados y eficientes. La capacidad de los algoritmos cuánticos para manejar y procesar grandes volúmenes de datos de manera rápida y precisa podría transformar industrias enteras, desde la farmacéutica hasta la financiera.\n",
    "\n",
    "En resumen, el futuro de la IA y el ML se perfila como una mezcla emocionante de desafíos éticos, avances tecnológicos y nuevas oportunidades. Mientras exploramos estos horizontes inexplorados, es crucial mantener un enfoque equilibrado, combinando la innovación con la responsabilidad para asegurar que los beneficios de estas tecnologías se extiendan a toda la sociedad."
   ]
  },
  {
   "cell_type": "code",
   "execution_count": null,
   "metadata": {},
   "outputs": [],
   "source": []
  }
 ],
 "metadata": {
  "kernelspec": {
   "display_name": "Python 3",
   "language": "python",
   "name": "python3"
  },
  "language_info": {
   "name": "python",
   "version": "3.11.7"
  }
 },
 "nbformat": 4,
 "nbformat_minor": 2
}
