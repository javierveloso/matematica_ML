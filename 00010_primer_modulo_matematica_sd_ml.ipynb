{
 "cells": [
  {
   "cell_type": "markdown",
   "metadata": {},
   "source": [
    "# 1. Fundamentos Matemáticos para Data Science y Machine Learning\n",
    "\n",
    "La matemática es el pilar fundamental sobre el que se construyen los conceptos de Data Science y Machine Learning. Comprender los fundamentos matemáticos te permitirá entender mejor los algoritmos y técnicas que aplicas. En esta sección, exploraremos el álgebra lineal, empezando por vectores y matrices.\n",
    "\n",
    "## 1.1. Álgebra Lineal\n",
    "\n",
    "El álgebra lineal es esencial para el análisis y la manipulación de datos en múltiples dimensiones. Permite representar y resolver sistemas de ecuaciones lineales, trabajar con transformaciones lineales y comprender las estructuras de datos en espacios vectoriales.\n",
    "\n",
    "### 1.1.1. Vectores y Matrices\n",
    "\n",
    "Los vectores y las matrices son los bloques de construcción básicos del álgebra lineal. Son fundamentales para la representación y manipulación de datos en Data Science y Machine Learning.\n",
    "\n",
    "#### 1.1.1.1. Operaciones básicas con vectores\n",
    "\n",
    "Las operaciones con vectores son esenciales para muchas aplicaciones prácticas. Aquí exploraremos las operaciones básicas: suma, resta, producto escalar y producto vectorial.\n",
    "\n",
    "##### 1.1.1.1.1. Suma y resta de vectores\n",
    "\n",
    "La suma y resta de vectores son operaciones elementales que se realizan componente a componente. Podemos pensar en los vectores como \"bolsas\" de números, y sumar o restar vectores es como combinar o quitar elementos de estas bolsas.\n",
    "\n"
   ]
  },
  {
   "cell_type": "markdown",
   "metadata": {},
   "source": [
    "Para realizar la suma y resta de matrices, se deben cumplir ciertos requisitos específicos en cuanto a las dimensiones de las matrices involucradas. Aquí tienes una explicación detallada:\n",
    "\n",
    "##### Requisitos para la Suma y Resta de Matrices\n",
    "\n",
    "1. **Igualdad de Dimensiones**:\n",
    "   - Las matrices que se van a sumar o restar deben tener las mismas dimensiones. Es decir, si tienes dos matrices $A$ y $B$, entonces ambas deben tener el mismo número de filas y el mismo número de columnas.\n",
    "   - Formalmente, si $A$ es una matriz de dimensiones $m \\times n$ (m filas y n columnas) y $B$ es una matriz de dimensiones $p \\times q$, para que la suma $A + B$ o la resta $A - B$ esté definida, se debe cumplir que $m = p$ y $n = q$.\n",
    "\n",
    "### Ejemplo\n",
    "\n",
    "#### Suma de Matrices\n",
    "\n",
    "Considera las siguientes matrices $A$ y $B$:\n",
    "\n",
    "$$\n",
    "A = \\begin{pmatrix}\n",
    "1 & 2 & 3 \\\\\n",
    "4 & 5 & 6 \\\\\n",
    "\\end{pmatrix}\n",
    "$$\n",
    "\n",
    "$$\n",
    "B = \\begin{pmatrix}\n",
    "7 & 8 & 9 \\\\\n",
    "10 & 11 & 12 \\\\\n",
    "\\end{pmatrix}\n",
    "$$\n",
    "Ambas matrices $A$ y $B$ tienen dimensiones $2 \\times 3$ (2 filas y 3 columnas), por lo que pueden ser sumadas o restadas.\n",
    "\n",
    "La suma de $A$ y $B$ es:\n",
    "$$\n",
    "A + B = \\begin{pmatrix}\n",
    "1+7 & 2+8 & 3+9 \\\\\n",
    "4+10 & 5+11 & 6+12 \\\\\n",
    "\\end{pmatrix}\n",
    "= \\begin{pmatrix}\n",
    "8 & 10 & 12 \\\\\n",
    "14 & 16 & 18 \\\\\n",
    "\\end{pmatrix}\n",
    "$$\n",
    "#### Resta de Matrices\n",
    "\n",
    "La resta de $A$ y $B$ es:\n",
    "\n",
    "$$\n",
    "A - B = \\begin{pmatrix}\n",
    "1-7 & 2-8 & 3-9 \\\\\n",
    "4-10 & 5-11 & 6-12 \\\\\n",
    "\\end{pmatrix}\n",
    "= \\begin{pmatrix}\n",
    "-6 & -6 & -6 \\\\\n",
    "-6 & -6 & -6 \\\\\n",
    "\\end{pmatrix}\n",
    "$$\n",
    "\n",
    "### Resumen de Requisitos\n",
    "- **Dimensiones Iguales**: Las matrices deben tener el mismo número de filas y columnas.\n",
    "- **Elementos Correspondientes**: La suma o resta se realiza elemento a elemento, es decir, cada elemento en la posición $(i, j)$ de la matriz $A$ se suma o resta con el elemento en la misma posición $(i, j)$ de la matriz $B$.\n",
    "\n",
    "Si las matrices no cumplen con estas condiciones, la suma o resta no está definida y no puede realizarse.\n"
   ]
  },
  {
   "cell_type": "markdown",
   "metadata": {},
   "source": [
    "**Definición:**\n",
    "\n",
    "Dados dos vectores"
   ]
  },
  {
   "cell_type": "markdown",
   "metadata": {},
   "source": [
    "$$ \\mathbf{a} = [a_1, a_2, \\ldots, a_n] \\text{ y } \\mathbf{b} = [b_1, b_2, \\ldots, b_n] $$"
   ]
  },
  {
   "cell_type": "markdown",
   "metadata": {},
   "source": []
  },
  {
   "cell_type": "markdown",
   "metadata": {},
   "source": [
    "- La **suma** de:"
   ]
  },
  {
   "cell_type": "markdown",
   "metadata": {},
   "source": [
    "$$\n",
    "\\mathbf{a} \\text{ y } \\mathbf{b} \\text{ es } \\mathbf{c} = [a_1 + b_1, a_2 + b_2, \\ldots, a_n + b_n]\n",
    "$$"
   ]
  },
  {
   "cell_type": "markdown",
   "metadata": {},
   "source": [
    "- La **resta** de"
   ]
  },
  {
   "cell_type": "markdown",
   "metadata": {},
   "source": [
    "$$\n",
    "\\mathbf{a} \\text{ y } \\mathbf{b} \\text{ es } \\mathbf{d} = [a_1 - b_1, a_2 - b_2, \\ldots, a_n - b_n]\n",
    "$$"
   ]
  },
  {
   "cell_type": "markdown",
   "metadata": {},
   "source": [
    "Imagina que tienes dos listas de compras, una para frutas y otra para verduras. Si sumas las dos listas, obtienes una lista combinada de todos los productos que necesitas comprar. Si restas una lista de otra, obtienes los productos que están en la primera lista pero no en la segunda.\n",
    "\n",
    "**Ejemplo práctico:**\n",
    "\n",
    "Supongamos que queremos combinar las ventas mensuales de dos sucursales de una tienda. Representamos las ventas como vectores y sumamos los vectores para obtener las ventas totales combinadas."
   ]
  },
  {
   "cell_type": "code",
   "execution_count": 127,
   "metadata": {},
   "outputs": [
    {
     "name": "stdout",
     "output_type": "stream",
     "text": [
      "Ventas totales combinadas: [50 75 95]\n",
      "Diferencia de ventas: [10  5  5]\n"
     ]
    }
   ],
   "source": [
    "import numpy as np\n",
    "\n",
    "# Ventas mensuales de la sucursal A (en miles de dólares)\n",
    "ventas_a = np.array([30, 40, 50])\n",
    "\n",
    "# Ventas mensuales de la sucursal B (en miles de dólares)\n",
    "ventas_b = np.array([20, 35, 45])\n",
    "\n",
    "# Suma de las ventas\n",
    "ventas_totales = ventas_a + ventas_b\n",
    "print(\"Ventas totales combinadas:\", ventas_totales)\n",
    "\n",
    "# Resta de las ventas (diferencia entre sucursal A y B)\n",
    "diferencia_ventas = ventas_a - ventas_b\n",
    "print(\"Diferencia de ventas:\", diferencia_ventas)"
   ]
  },
  {
   "cell_type": "markdown",
   "metadata": {},
   "source": [
    "**Nota Aclaratoria**\n",
    "\n",
    "El tipo de dato nativo de Python llamado **listas** (o `list`) no es lo mismo que un tipo de dato **array** (como los proporcionados por NumPy), aunque ambos pueden ser utilizados para almacenar y manipular colecciones de elementos. A continuación se destacan las principales diferencias entre las listas de Python y los arrays de NumPy:\n",
    "\n",
    "- **Estructura y Flexibilidad:**\n",
    "   - **Listas:** Son estructuras de datos flexibles que pueden contener elementos de diferentes tipos de datos (por ejemplo, enteros, cadenas, objetos, etc.) dentro de la misma lista.\n",
    "   - **Arrays de NumPy:** Los arrays de NumPy están diseñados para ser más homogéneos y generalmente contienen elementos de un solo tipo de datos, lo que permite optimizaciones en términos de rendimiento.\n",
    "\n",
    "- **Dimensionalidad:**\n",
    "   - **Listas:** Las listas en Python pueden ser unidimensionales, pero se pueden anidar listas dentro de listas para crear estructuras de datos multidimensionales. Sin embargo, estas anidaciones no están optimizadas para operaciones matemáticas.\n",
    "   - **Arrays de NumPy:** Los arrays de NumPy están inherentemente diseñados para trabajar con datos multidimensionales, como matrices 2D o tensores de mayor dimensión, con operaciones optimizadas para manipular estas estructuras de manera eficiente.\n",
    "\n",
    "- **Rendimiento:**\n",
    "   - **Listas:** Al ser más flexibles, las listas son menos eficientes en términos de velocidad y uso de memoria, especialmente cuando se realizan operaciones numéricas en grandes cantidades de datos.\n",
    "   - **Arrays de NumPy:** Los arrays de NumPy están implementados en C, lo que los hace mucho más rápidos y eficientes en términos de memoria, especialmente cuando se realizan operaciones matemáticas en grandes volúmenes de datos.\n",
    "\n",
    "- **Operaciones Matemáticas:**\n",
    "   - **Listas:** Las listas en Python no están diseñadas para operaciones matemáticas vectorizadas. Por ejemplo, intentar sumar dos listas no sumará elemento por elemento, sino que concatenará las listas.\n",
    "   - **Arrays de NumPy:** Los arrays de NumPy permiten operaciones matemáticas vectorizadas. Por ejemplo, la suma de dos arrays de NumPy de igual tamaño sumará cada par de elementos correspondientes.\n",
    "\n",
    "5. **Funciones y Métodos:**\n",
    "   - **Listas:** Las listas en Python tienen métodos incorporados que permiten operaciones como agregar, eliminar, ordenar y modificar elementos, pero carecen de operaciones matemáticas avanzadas.\n",
    "   - **Arrays de NumPy:** Los arrays de NumPy ofrecen una amplia gama de funciones y métodos especializados para realizar operaciones matemáticas, estadísticas y de álgebra lineal directamente sobre los arrays.\n",
    "\n",
    "6. **Alocación de Memoria:**\n",
    "   - **Listas:** Las listas en Python son dinámicas y pueden cambiar de tamaño durante la ejecución del programa, lo que implica una sobrecarga en la gestión de memoria.\n",
    "   - **Arrays de NumPy:** Los arrays de NumPy, al estar más cercanos al hardware, tienen una asignación de memoria más eficiente y fija, lo que mejora el rendimiento en operaciones intensivas en datos.\n",
    "\n",
    "aunque las listas y los arrays en Python pueden parecer similares en su uso básico, los arrays de NumPy están optimizados para operaciones numéricas y manipulación de datos en aplicaciones científicas y de ingeniería, donde se requiere un alto rendimiento y manejo eficiente de grandes cantidades de datos.\n",
    "\n",
    "a continuación un pequeño ejemplo del mismo código con arrays pero con estructura de dato lista, verán que incluso en la resta de ambas listas da un error por la imposibilidad de realizar esta operación de la forma que se hizo con el array."
   ]
  },
  {
   "cell_type": "code",
   "execution_count": 2,
   "metadata": {},
   "outputs": [
    {
     "name": "stdout",
     "output_type": "stream",
     "text": [
      "Ventas totales combinadas: [30, 40, 50, 20, 35, 45]\n"
     ]
    },
    {
     "ename": "TypeError",
     "evalue": "unsupported operand type(s) for -: 'list' and 'list'",
     "output_type": "error",
     "traceback": [
      "\u001b[1;31m---------------------------------------------------------------------------\u001b[0m",
      "\u001b[1;31mTypeError\u001b[0m                                 Traceback (most recent call last)",
      "Cell \u001b[1;32mIn[2], line 12\u001b[0m\n\u001b[0;32m      9\u001b[0m \u001b[38;5;28mprint\u001b[39m(\u001b[38;5;124m\"\u001b[39m\u001b[38;5;124mVentas totales combinadas:\u001b[39m\u001b[38;5;124m\"\u001b[39m, ventas_totales)\n\u001b[0;32m     11\u001b[0m \u001b[38;5;66;03m# Resta de las ventas (diferencia entre sucursal A y B, elemento a elemento)\u001b[39;00m\n\u001b[1;32m---> 12\u001b[0m diferencia_ventas \u001b[38;5;241m=\u001b[39m \u001b[43mventas_a\u001b[49m\u001b[43m \u001b[49m\u001b[38;5;241;43m-\u001b[39;49m\u001b[43m \u001b[49m\u001b[43mventas_b\u001b[49m\n\u001b[0;32m     13\u001b[0m \u001b[38;5;28mprint\u001b[39m(\u001b[38;5;124m\"\u001b[39m\u001b[38;5;124mDiferencia de ventas:\u001b[39m\u001b[38;5;124m\"\u001b[39m, diferencia_ventas)\n",
      "\u001b[1;31mTypeError\u001b[0m: unsupported operand type(s) for -: 'list' and 'list'"
     ]
    }
   ],
   "source": [
    "# Ventas mensuales de la sucursal A (en miles de dólares)\n",
    "ventas_a = [30, 40, 50]\n",
    "\n",
    "# Ventas mensuales de la sucursal B (en miles de dólares)\n",
    "ventas_b = [20, 35, 45]\n",
    "\n",
    "# Suma de las ventas (elemento a elemento)\n",
    "ventas_totales = ventas_a + ventas_b\n",
    "print(\"Ventas totales combinadas:\", ventas_totales)\n",
    "\n",
    "# Resta de las ventas (diferencia entre sucursal A y B, elemento a elemento)\n",
    "diferencia_ventas = ventas_a - ventas_b\n",
    "print(\"Diferencia de ventas:\", diferencia_ventas)"
   ]
  },
  {
   "cell_type": "markdown",
   "metadata": {},
   "source": [
    "##### 1.1.1.1.2. Producto escalar y vectorial\n",
    "\n",
    "El producto escalar y vectorial son operaciones fundamentales que tienen aplicaciones importantes en física, computación gráfica y Machine Learning.\n",
    "\n",
    "**Producto Escalar:**\n",
    "\n",
    "El producto escalar, también conocido como producto punto, es una operación que toma dos vectores del mismo tamaño y devuelve un solo número, que es un escalar. Es una medida de cuánto dos vectores \"apuntan\" en la misma dirección.\n",
    "\n",
    "Esto significa que el producto escalar de los vectores es la suma de los productos de sus componentes correspondientes.\n",
    "\n",
    "**Definición:**\n",
    "\n",
    "Para dos vectores"
   ]
  },
  {
   "cell_type": "markdown",
   "metadata": {},
   "source": [
    "$$\n",
    "\\mathbf{a} \\cdot \\mathbf{b} = a_1 b_1 + a_2 b_2 + \\cdots + a_n b_n \\\n",
    "$$\n",
    "\n",
    "$$\n",
    "\\mathbf{a} \\cdot \\mathbf{b} = \\sum_{i=1}^n a_i b_i \\\n",
    "$$\n",
    "\n",
    "\n",
    "### Ejemplo con Vectores en \n",
    "$$\n",
    "\\mathbb{R}^3\\\n",
    "$$\n",
    "\n",
    "Considera los vectores $$ \\mathbf{a} = (a_1, a_2, a_3) \\text{ y } \\mathbf{b} = (b_1, b_2, b_3) $$ :\n",
    "\n",
    "$$\n",
    "\\mathbf{a} = (1, 2, 3) \\\n",
    "$$\n",
    "$$\n",
    "\\mathbf{b} = (4, 5, 6) \\\n",
    "$$\n",
    "\n",
    "El producto escalar es:\n",
    "\n",
    "$$ \n",
    "\\mathbf{a} \\cdot \\mathbf{b} = 1 \\cdot 4 + 2 \\cdot 5 + 3 \\cdot 6 \\\n",
    "$$\n",
    "$$ \n",
    "\\mathbf{a} \\cdot \\mathbf{b} = 4 + 10 + 18 \\ \n",
    "$$\n",
    "$$ \n",
    "\\mathbf{a} \\cdot \\mathbf{b} = 32 \\ \n",
    "$$\n",
    "\n",
    "Por lo tanto, el producto escalar de \n",
    "$$\n",
    "\\mathbf{a}$$ y \n",
    "$$\n",
    "\\mathbf{b}\n",
    "$$ \n",
    "es 32.\n",
    "\n",
    "Imagina que tienes dos listas de actividades diarias, una para ejercicio y otra para trabajo. Si ambas listas tienen actividades similares, su producto escalar será alto, indicando que ambas listas están alineadas o tienen muchas actividades en común.\n",
    "\n",
    "**Ejemplo práctico:**\n",
    "\n",
    "Supongamos que queremos calcular la similitud entre dos perfiles de clientes en función de sus gastos en diferentes categorías. Podemos usar el producto escalar para esto."
   ]
  },
  {
   "cell_type": "code",
   "execution_count": 128,
   "metadata": {},
   "outputs": [
    {
     "name": "stdout",
     "output_type": "stream",
     "text": [
      "Similitud entre los perfiles de clientes: 95000\n"
     ]
    }
   ],
   "source": [
    "# Gastos del cliente A en diferentes categorías (en dólares)\n",
    "gastos_a = np.array([100, 200, 300])\n",
    "\n",
    "# Gastos del cliente B en diferentes categorías (en dólares)\n",
    "gastos_b = np.array([150, 250, 100])\n",
    "\n",
    "# Producto escalar\n",
    "similitud = np.dot(gastos_a, gastos_b)\n",
    "print(\"Similitud entre los perfiles de clientes:\", similitud)\n"
   ]
  },
  {
   "cell_type": "markdown",
   "metadata": {},
   "source": [
    "El producto escalar entre los dos vectores de gastos proporciona una medida de similitud entre los perfiles de los clientes. Un valor más alto indica que los gastos de los clientes son más similares, mientras que un valor más bajo indicaría menor similitud. En este caso, la similitud es 95000, lo que sugiere una considerable similitud en los patrones de gasto de estos dos clientes."
   ]
  },
  {
   "cell_type": "markdown",
   "metadata": {},
   "source": [
    "**Producto Vectorial:**\n",
    "\n",
    "El producto vectorial es una operación que se realiza en vectores tridimensionales y resulta en un vector que es perpendicular a los dos vectores originales.\n",
    "\n",
    "**Definición:**\n",
    "\n",
    "Para dos vectores en tres dimensiones \n",
    "\n",
    "$$\n",
    "\\mathbf{a} = [a_1, a_2, a_3] \\text{ y } \\mathbf{b} = [b_1, b_2, b_3]\n",
    "$$\n",
    "\n",
    "$$\n",
    "\\mathbf{a} \\times \\mathbf{b} = [a_2 b_3 - a_3 b_2, a_3 b_1 - a_1 b_3, a_1 b_2 - a_2 b_1]\n",
    "$$\n",
    "\n",
    "\n"
   ]
  },
  {
   "cell_type": "markdown",
   "metadata": {},
   "source": [
    "**Producto Vectorial:**\n",
    "\n",
    "El producto vectorial es una operación entre dos vectores en tres dimensiones (3D) que da como resultado un tercer vector que es perpendicular a ambos vectores originales.\n",
    "\n",
    "**Definición:**\n",
    "\n",
    "Dado dos vectores $a$  y $b$  en tres dimensiones:\n",
    "\n",
    "$$ \n",
    "\\mathbf{a} = \\begin{pmatrix} a_1 \\\\ a_2 \\\\ a_3 \\end{pmatrix} \\quad \\text{y} \\quad \\mathbf{b} = \\begin{pmatrix} b_1 \\\\ b_2 \\\\ b_3 \\end{pmatrix} \\ \n",
    "$$\n",
    "\n",
    "El producto vectorial, denotado como $a$ X $b$, se define como:\n",
    "\n",
    "$$\n",
    "\\mathbf{a} \\times \\mathbf{b} = \\begin{vmatrix} \\mathbf{i} & \\mathbf{j} & \\mathbf{k} \\\\ a_1 & a_2 & a_3 \\\\ b_1 & b_2 & b_3 \\end{vmatrix} \\\n",
    "$$\n",
    "\n",
    "Este determinante se puede expandir para obtener el siguiente vector:\n",
    "\n",
    "$$\n",
    "\\mathbf{a} \\times \\mathbf{b} = \\begin{pmatrix} a_2 b_3 - a_3 b_2 \\\\ a_3 b_1 - a_1 b_3 \\\\ a_1 b_2 - a_2 b_1 \\end{pmatrix} \n",
    "$$\n",
    "\n",
    "**Explicación Sencilla:**\n",
    "\n",
    "1. **Perpendicularidad:** El vector resultante del producto vectorial $a$ X $b$ es perpendicular (forma un ángulo de 90 grados) tanto a $a $ como a $b$. Esto significa que si imaginas los vectores $a$ y $b$ en el espacio, el vector resultante será una \"flecha\" que apunta en una dirección completamente distinta, formando un ángulo recto con ambos.\n",
    "\n",
    "2. **Sentido del Vector Resultante:** La dirección del vector resultante sigue la regla de la mano derecha: si apuntas el índice de la mano derecha en la dirección de $a$ y el medio en la dirección de $mathbf{b}$, el pulgar señalará la dirección del producto vectorial.\n",
    "\n",
    "3. **Magnitud:** La longitud del vector resultante $a$ X $b$ es igual al área del paralelogramo formado por $a$ y $b$. Esto se puede calcular como:\n",
    "\n",
    "$$\n",
    "\\mathbf{a} \\times \\mathbf{b}| = |\\mathbf{a}| |\\mathbf{b}| \\sin(\\theta) \\\n",
    "$$\n",
    "\n",
    "donde $$\\theta$$ es el ángulo entre \n",
    "$\\mathbf{a}$ y $\\mathbf{b}$\n",
    "\n",
    "4. **Uso Práctico:** El producto vectorial se utiliza en muchas áreas de la física y la ingeniería, como en la determinación de fuerzas en mecanismos y en el cálculo del torque o momento de una fuerza.\n",
    "\n",
    "### Ejemplo\n",
    "Si tenemos dos vectores:\n",
    "$$\n",
    "\\mathbf{a} = \\begin{pmatrix} 1 \\\\ 2 \\\\ 3 \\end{pmatrix} \\quad \\text{y} \\quad \\mathbf{b} = \\begin{pmatrix} 4 \\\\ 5 \\\\ 6 \\end{pmatrix} \\\n",
    "$$\n",
    "\n",
    "El producto vectorial $a$ X $b$ se calcula como:\n",
    "$$\n",
    "\\mathbf{a} \\times \\mathbf{b} = \\begin{vmatrix} \\mathbf{i} & \\mathbf{j} & \\mathbf{k} \\\\ 1 & 2 & 3 \\\\ 4 & 5 & 6 \\end{vmatrix} = \\begin{pmatrix} (2 \\cdot 6 - 3 \\cdot 5) \\\\ (3 \\cdot 4 - 1 \\cdot 6) \\\\ (1 \\cdot 5 - 2 \\cdot 4) \\end{pmatrix} = \\begin{pmatrix} 12 - 15 \\\\ 12 - 6 \\\\ 5 - 8 \\end{pmatrix} = \\begin{pmatrix} -3 \\\\ 6 \\\\ -3 \\end{pmatrix} \\\n",
    "$$\n",
    "\n",
    "Así, el vector resultante es:\n",
    "\n",
    "$$\n",
    "\\begin{pmatrix} \n",
    "-3 \\\\ \n",
    "6 \\\\ \n",
    "-3 \n",
    "\\end{pmatrix}\n",
    "$$\n",
    "\n",
    "que es perpendicular a ambos vectores $a$ y $b$."
   ]
  },
  {
   "cell_type": "markdown",
   "metadata": {},
   "source": [
    "**Ejemplo práctico:**\n",
    "\n",
    "Imagina que tienes dos fuerzas aplicadas en un objeto en diferentes direcciones. El producto vectorial te dará una nueva fuerza que representa cómo estas dos fuerzas combinadas afectan al objeto en una dirección perpendicular.\n",
    "\n",
    "\n",
    "En ingeniería y física, el producto vectorial es útil para encontrar el torque producido por una fuerza. Imaginemos una situación donde tenemos un vector fuerza y un vector posición."
   ]
  },
  {
   "cell_type": "code",
   "execution_count": 129,
   "metadata": {},
   "outputs": [
    {
     "name": "stdout",
     "output_type": "stream",
     "text": [
      "Torque producido: [ 1 -2  1]\n"
     ]
    }
   ],
   "source": [
    "# Vector fuerza (en Newtons)\n",
    "fuerza = np.array([3, 4, 5])\n",
    "\n",
    "# Vector posición (en metros)\n",
    "posicion = np.array([2, 3, 4])\n",
    "\n",
    "# Producto vectorial\n",
    "torque = np.cross(fuerza, posicion)\n",
    "print(\"Torque producido:\", torque)\n"
   ]
  },
  {
   "cell_type": "markdown",
   "metadata": {},
   "source": [
    "Estos ejemplos ilustran cómo las operaciones básicas con vectores tienen aplicaciones prácticas en el mundo real, desde la combinación de ventas mensuales hasta el cálculo de similitud entre perfiles de clientes y la determinación de torque en sistemas físicos. Al comprender estas operaciones fundamentales, podemos abordar problemas más complejos en Data Science y Machine Learning con mayor confianza y eficacia."
   ]
  },
  {
   "cell_type": "markdown",
   "metadata": {},
   "source": [
    "### 1.1.1.2. Operaciones básicas con matrices\n",
    "\n",
    "Las matrices son una extensión de los vectores y se utilizan para representar y manipular datos en múltiples dimensiones. Comprender las operaciones básicas con matrices es fundamental para muchas aplicaciones en Data Science y Machine Learning.\n",
    "\n",
    "#### 1.1.1.2.1. Suma y resta de matrices\n",
    "\n",
    "La suma y resta de matrices son operaciones que se realizan elemento a elemento, similar a la suma y resta de vectores, pero en un contexto bidimensional.\n",
    "\n",
    "**Definición:**\n",
    "\n",
    "Dadas dos matrices \n",
    "$A$ y $B$ \n",
    "de dimensiones \n",
    "$m \\times n$:\n",
    "\n",
    "- La **suma** de \n",
    "$A$ y $B$ es una matriz $C$ de las mismas dimensiones, donde cada elemento $c_{ij}$ se calcula como $c_{ij} = a_{ij} + b_{ij}$.\n",
    "- La **resta** de $A$ y $B$ es una matriz $D$ de las mismas dimensiones, donde cada elemento $d_{ij}$ se calcula como $d_{ij} = a_{ij} - b_{ij}$.\n",
    "\n",
    "**Analogía:**\n",
    "\n",
    "Imagina dos tablas de Excel, una con los ingresos de diferentes productos y otra con los costos. Sumar estas tablas nos daría una nueva tabla con los ingresos totales por producto, mientras que restarlas nos daría los beneficios netos por producto.\n",
    "\n",
    "**Ejemplo práctico:**\n",
    "\n",
    "Supongamos que estamos analizando las ventas y devoluciones de productos en dos tiendas diferentes y queremos combinarlas."
   ]
  },
  {
   "cell_type": "code",
   "execution_count": 130,
   "metadata": {},
   "outputs": [
    {
     "name": "stdout",
     "output_type": "stream",
     "text": [
      "Ventas totales combinadas:\n",
      " [[ 15  35  55]\n",
      " [ 75  95 115]]\n",
      "Devoluciones totales combinadas:\n",
      " [[ 1.5  3.5  5.5]\n",
      " [ 7.5  9.5 11.5]]\n",
      "Diferencia entre ventas y devoluciones totales:\n",
      " [[ 13.5  31.5  49.5]\n",
      " [ 67.5  85.5 103.5]]\n"
     ]
    }
   ],
   "source": [
    "import numpy as np\n",
    "\n",
    "# Ventas en la tienda A (en miles de unidades)\n",
    "ventas_a = np.array([[10, 20, 30],\n",
    "                     [40, 50, 60]])\n",
    "\n",
    "# Ventas en la tienda B (en miles de unidades)\n",
    "ventas_b = np.array([[5, 15, 25],\n",
    "                     [35, 45, 55]])\n",
    "\n",
    "# Suma de las ventas\n",
    "ventas_totales = ventas_a + ventas_b\n",
    "print(\"Ventas totales combinadas:\\n\", ventas_totales)\n",
    "\n",
    "# Devoluciones en la tienda A\n",
    "devoluciones_a = np.array([[1, 2, 3],\n",
    "                           [4, 5, 6]])\n",
    "\n",
    "# Devoluciones en la tienda B\n",
    "devoluciones_b = np.array([[0.5, 1.5, 2.5],\n",
    "                           [3.5, 4.5, 5.5]])\n",
    "\n",
    "# Suma de las devoluciones\n",
    "devoluciones_totales = devoluciones_a + devoluciones_b\n",
    "print(\"Devoluciones totales combinadas:\\n\", devoluciones_totales)\n",
    "\n",
    "# Diferencia entre ventas y devoluciones totales\n",
    "diferencia = ventas_totales - devoluciones_totales\n",
    "print(\"Diferencia entre ventas y devoluciones totales:\\n\", diferencia)"
   ]
  },
  {
   "cell_type": "markdown",
   "metadata": {},
   "source": [
    "#### 1.1.1.2.2. Multiplicación de matrices\n",
    "\n",
    "La multiplicación de matrices es una operación más compleja que involucra la combinación de filas y columnas de las matrices. Es fundamental para muchos algoritmos en Machine Learning y procesamiento de datos.\n",
    "\n",
    "**Definición:**\n",
    "\n",
    "Dadas dos matrices $A$ de dimensiones $m \\times n$ y $B$ de dimensiones $n \\times p$, el **producto** de $A$ y $B$ es una matriz $C$ de dimensiones $m \\times p$, donde cada elemento $c_{ij}$ se calcula como:\n",
    "$$\n",
    "c_{ij} = \\sum_{k=1}^{n} a_{ik} b_{kj}\n",
    "$$\n",
    "\n",
    "\n",
    "Imagina que tienes una tabla que muestra el número de productos vendidos y otra tabla que muestra los precios de los productos. Multiplicar estas tablas te dará una nueva tabla que muestra los ingresos por producto.\n",
    "\n",
    "**Ejemplo práctico:**\n",
    "\n",
    "Supongamos que queremos calcular los ingresos totales a partir de las ventas de productos y sus precios en diferentes tiendas."
   ]
  },
  {
   "cell_type": "code",
   "execution_count": 131,
   "metadata": {},
   "outputs": [
    {
     "name": "stdout",
     "output_type": "stream",
     "text": [
      "Ingresos totales:\n",
      " [[220 280]\n",
      " [490 640]]\n"
     ]
    }
   ],
   "source": [
    "# Ventas de productos en dos tiendas (en unidades)\n",
    "ventas = np.array([[10, 20, 30],\n",
    "                   [40, 50, 60]])\n",
    "\n",
    "# Precios de los productos en diferentes tiendas (en dólares)\n",
    "precios = np.array([[1, 2],\n",
    "                    [3, 4],\n",
    "                    [5, 6]])\n",
    "\n",
    "# Multiplicación de matrices para calcular los ingresos\n",
    "ingresos = np.dot(ventas, precios)\n",
    "print(\"Ingresos totales:\\n\", ingresos)"
   ]
  },
  {
   "cell_type": "markdown",
   "metadata": {},
   "source": [
    "En este ejemplo, multiplicamos la matriz de ventas por la matriz de precios para obtener una nueva matriz que muestra los ingresos totales en cada tienda.\n",
    "\n",
    "Las operaciones básicas con matrices, como la suma, la resta y la multiplicación, son fundamentales para manipular y analizar datos en Data Science y Machine Learning. Estas operaciones tienen aplicaciones prácticas directas en el análisis financiero, el seguimiento de ventas, y muchas otras áreas. Comprender estas operaciones te permitirá abordar problemas más complejos con mayor eficacia y precisión."
   ]
  },
  {
   "cell_type": "markdown",
   "metadata": {},
   "source": [
    "### 1.1.2. Sistemas de ecuaciones lineales\n",
    "\n",
    "Los sistemas de ecuaciones lineales son conjuntos de ecuaciones donde cada una es una combinación lineal de variables. Resolver estos sistemas es una tarea fundamental en álgebra lineal, con aplicaciones en muchas áreas de Data Science y Machine Learning, como la regresión lineal y la optimización.\n",
    "\n",
    "#### 1.1.2.1. Método de eliminación de Gauss-Jordan\n",
    "\n",
    "El método de eliminación de Gauss-Jordan es un procedimiento sistemático para resolver sistemas de ecuaciones lineales. Este método transforma una matriz aumentada del sistema en su forma reducida por filas (forma escalonada reducida), permitiendo obtener las soluciones directamente.\n",
    "\n",
    "##### 1.1.2.1.1. Pasos del algoritmo\n",
    "\n",
    "Para resolver un sistema de ecuaciones lineales utilizando el método de eliminación de Gauss-Jordan, seguimos estos pasos:\n",
    "\n",
    "1. **Formar la matriz aumentada**: Combine la matriz de coeficientes con el vector de términos constantes.\n",
    "2. **Convertir a forma escalonada**: Utilice operaciones de fila (intercambio, multiplicación por un escalar, suma de filas) para transformar la matriz en una forma triangular superior.\n",
    "3. **Convertir a forma escalonada reducida**: Continúe utilizando operaciones de fila para hacer ceros los elementos por encima y por debajo de cada pivote, de modo que cada columna de pivote tenga un único 1 y todos los demás elementos sean 0.\n",
    "4. **Extraer soluciones**: Una vez en forma escalonada reducida, las soluciones al sistema pueden leerse directamente de la matriz.\n",
    "\n",
    "**Analogía:**\n",
    "\n",
    "Piensa en un sistema de ecuaciones lineales como un grupo de instrucciones para encontrar una ubicación específica en un mapa. El método de eliminación de Gauss-Jordan es como simplificar esas instrucciones paso a paso hasta que te quede un conjunto claro y directo que te lleva exactamente a tu destino.\n",
    "\n",
    "##### 1.1.2.1.2. Implementación en Python\n",
    "\n",
    "Vamos a resolver un sistema de ecuaciones lineales utilizando el método de eliminación de Gauss-Jordan. Consideremos el siguiente sistema de ecuaciones:\n",
    "\n",
    "$$ \n",
    "\\begin{cases}\n",
    "2x + 3y + z = 1 \\\\\n",
    "4x + y - 2z = -2 \\\\\n",
    "-2x + y + 2z = 4 \n",
    "\\end{cases}\n",
    "$$\n",
    "\n",
    "Primero, formamos la matriz aumentada:\n",
    "\n",
    "$$\n",
    "\n",
    "\\begin{array}{ccc|c}\n",
    "2 & 3 & 1 & 1 \\\\\n",
    "4 & 1 & -2 & -2 \\\\\n",
    "-2 & 1 & 2 & 4 \\\\\n",
    "\\end{array}\n",
    "\n",
    "$$\n",
    "\n",
    "Luego, aplicamos el método de eliminación de Gauss-Jordan paso a paso en Python:\n"
   ]
  },
  {
   "cell_type": "code",
   "execution_count": 132,
   "metadata": {},
   "outputs": [
    {
     "name": "stdout",
     "output_type": "stream",
     "text": [
      "Matriz en forma escalonada reducida:\n",
      " [[ 1.  0.  0. -7.]\n",
      " [ 0.  1.  0.  8.]\n",
      " [-0. -0.  1. -9.]]\n",
      "Soluciones del sistema: x = -6.999999999999996 , y = 7.999999999999993 , z = -8.999999999999991\n"
     ]
    }
   ],
   "source": [
    "import numpy as np\n",
    "\n",
    "# Matriz aumentada\n",
    "A = np.array([\n",
    "    [2, 3, 1, 1],\n",
    "    [4, 1, -2, -2],\n",
    "    [-2, 1, 2, 4]\n",
    "], dtype=float)\n",
    "\n",
    "def gauss_jordan_elimination(A):\n",
    "    rows, cols = A.shape\n",
    "\n",
    "    for i in range(rows):\n",
    "        # Hacer el pivote igual a 1\n",
    "        pivot = A[i, i]\n",
    "        A[i] = A[i] / pivot\n",
    "\n",
    "        # Hacer ceros en las demás filas en la columna del pivote\n",
    "        for j in range(rows):\n",
    "            if j != i:\n",
    "                A[j] = A[j] - A[j, i] * A[i]\n",
    "\n",
    "    return A\n",
    "\n",
    "# Aplicar eliminación de Gauss-Jordan\n",
    "A_reduced = gauss_jordan_elimination(A)\n",
    "print(\"Matriz en forma escalonada reducida:\\n\", A_reduced)\n",
    "\n",
    "# Extraer soluciones\n",
    "soluciones = A_reduced[:, -1]\n",
    "print(\"Soluciones del sistema: x =\", soluciones[0], \", y =\", soluciones[1], \", z =\", soluciones[2])"
   ]
  },
  {
   "cell_type": "markdown",
   "metadata": {},
   "source": [
    "**Explicación:**\n",
    "\n",
    "1. **Formar la matriz aumentada**: La matriz $ A $ incluye los coeficientes y los términos constantes del sistema de ecuaciones.\n",
    "2. **Hacer el pivote igual a 1**: En cada iteración, dividimos la fila del pivote por el valor del pivote para convertirlo en 1.\n",
    "3. **Hacer ceros en las demás filas en la columna del pivote**: Restamos múltiplos de la fila del pivote de las otras filas para hacer ceros los elementos en la columna del pivote.\n",
    "4. **Extraer soluciones**: Una vez que la matriz está en forma escalonada reducida, las soluciones se extraen directamente de la última columna.\n",
    "\n",
    "El método de eliminación de Gauss-Jordan es una herramienta poderosa para resolver sistemas de ecuaciones lineales de manera eficiente, y es fundamental en muchas aplicaciones de Data Science y Machine Learning."
   ]
  },
  {
   "cell_type": "markdown",
   "metadata": {},
   "source": [
    "#### 1.1.2.2. Aplicaciones en Data Science de álgebra lineal\n",
    "\n",
    "El álgebra lineal tiene aplicaciones cruciales en Data Science, donde se utiliza para resolver problemas como la regresión lineal y el análisis de datos. Aquí exploraremos dos de estas aplicaciones: la resolución de sistemas en regresión lineal y la inversión de matrices en análisis de datos.\n",
    "\n",
    "##### 1.1.2.2.1. Resolución de sistemas en regresión lineal\n",
    "\n",
    "La regresión lineal es una técnica estadística utilizada para modelar la relación entre una variable dependiente y una o más variables independientes. La solución de sistemas de ecuaciones lineales es fundamental para ajustar el modelo de regresión lineal.\n",
    "\n",
    "**Concepto:**\n",
    "\n",
    "En regresión lineal, buscamos encontrar los coeficientes $$ \\beta $$ que minimicen el error cuadrático medio entre las predicciones del modelo y los valores reales. Esto se puede expresar como la solución del sistema de ecuaciones lineales:\n",
    "\n",
    "$$\n",
    "\\mathbf{y} = \\mathbf{X} \\beta\n",
    "$$\n",
    "\n",
    "Donde:\n",
    "- $\\mathbf{y}$ es el vector de valores observados.\n",
    "- $\\mathbf{X}$ es la matriz de características.\n",
    "- $\\beta$ es el vector de coeficientes.\n",
    "\n",
    "Para encontrar $$ \\beta $$, utilizamos la fórmula:\n",
    "\n",
    "$$\n",
    "\\beta = (\\mathbf{X}^T \\mathbf{X})^{-1} \\mathbf{X}^T \\mathbf{y}\n",
    "$$\n",
    "**Ejemplo práctico:**\n",
    "\n",
    "Supongamos que queremos predecir el precio de una casa en función del tamaño y el número de habitaciones. Utilizamos datos de entrenamiento para ajustar nuestro modelo de regresión lineal."
   ]
  },
  {
   "cell_type": "code",
   "execution_count": 133,
   "metadata": {},
   "outputs": [
    {
     "name": "stdout",
     "output_type": "stream",
     "text": [
      "Coeficientes de regresión: [1.93267624e-12 2.00000000e+00 2.98427949e-12]\n"
     ]
    },
    {
     "data": {
      "image/png": "[encoded data removed]",
      "text/plain": [
       "<Figure size 640x480 with 1 Axes>"
      ]
     },
     "metadata": {},
     "output_type": "display_data"
    }
   ],
   "source": [
    "import numpy as np\n",
    "import matplotlib.pyplot as plt\n",
    "\n",
    "# Datos de ejemplo (tamaño en m^2, número de habitaciones, precio en miles de dólares)\n",
    "X = np.array([\n",
    "    [120, 3],\n",
    "    [150, 4],\n",
    "    [170, 4],\n",
    "    [100, 2],\n",
    "    [200, 5]\n",
    "])\n",
    "\n",
    "y = np.array([240, 300, 340, 200, 400])\n",
    "\n",
    "# Añadir una columna de unos para el término independiente\n",
    "X = np.hstack([np.ones((X.shape[0], 1)), X])\n",
    "\n",
    "# Calcular los coeficientes de regresión\n",
    "beta = np.linalg.inv(X.T @ X) @ X.T @ y\n",
    "print(\"Coeficientes de regresión:\", beta)\n",
    "\n",
    "# Predecir precios con el modelo ajustado\n",
    "y_pred = X @ beta\n",
    "\n",
    "# Visualizar los resultados\n",
    "plt.scatter(X[:, 1], y, color='blue', label='Datos reales')\n",
    "plt.plot(X[:, 1], y_pred, color='red', label='Modelo de regresión')\n",
    "plt.xlabel('Tamaño (m^2)')\n",
    "plt.ylabel('Precio (en miles de dólares)')\n",
    "plt.legend()\n",
    "plt.show()\n"
   ]
  },
  {
   "cell_type": "markdown",
   "metadata": {},
   "source": [
    "\n",
    "**Explicación:**\n",
    "\n",
    "1. **Formar la matriz de características $ \\mathbf{X} $**: Añadimos una columna de unos para el término independiente.\n",
    "2. **Calcular los coeficientes $ \\beta $**: Utilizamos la fórmula de regresión lineal normal.\n",
    "3. **Predecir precios**: Multiplicamos la matriz de características $ \\mathbf{X} $ por los coeficientes $ \\beta $ para obtener las predicciones.\n",
    "4. **Visualizar los resultados**: Graficamos los datos reales y el modelo de regresión para comparar.\n",
    "\n",
    "##### 1.1.2.2.2. Inversión de matrices en análisis de datos\n",
    "\n",
    "La inversión de matrices es una operación fundamental en muchas técnicas de análisis de datos, como la descomposición en valores singulares (SVD) y el análisis de componentes principales (PCA).\n",
    "\n",
    "**Concepto:**\n",
    "\n",
    "Invertir una matriz es encontrar otra matriz que, cuando se multiplica con la original, da como resultado la matriz identidad. Esto se utiliza para resolver sistemas de ecuaciones lineales y para transformaciones lineales.\n",
    "\n",
    "**Ejemplo práctico:**\n",
    "\n",
    "Supongamos que queremos realizar un análisis de componentes principales (PCA) para reducir la dimensionalidad de un conjunto de datos. PCA utiliza la inversión de matrices para calcular los autovectores y autovalores de la matriz de covarianza de los datos."
   ]
  },
  {
   "cell_type": "code",
   "execution_count": 134,
   "metadata": {},
   "outputs": [
    {
     "name": "stdout",
     "output_type": "stream",
     "text": [
      "Autovalores: [0.08230081 2.13992141]\n",
      "Autovectores:\n",
      " [[-0.70710678 -0.70710678]\n",
      " [ 0.70710678 -0.70710678]]\n"
     ]
    },
    {
     "data": {
      "image/png": "[encoded data removed]",
      "text/plain": [
       "<Figure size 640x480 with 1 Axes>"
      ]
     },
     "metadata": {},
     "output_type": "display_data"
    }
   ],
   "source": [
    "import numpy as np\n",
    "import matplotlib.pyplot as plt\n",
    "from sklearn.decomposition import PCA\n",
    "\n",
    "# Datos de ejemplo (características)\n",
    "X = np.array([\n",
    "    [2.5, 2.4],\n",
    "    [0.5, 0.7],\n",
    "    [2.2, 2.9],\n",
    "    [1.9, 2.2],\n",
    "    [3.1, 3.0],\n",
    "    [2.3, 2.7],\n",
    "    [2.0, 1.6],\n",
    "    [1.0, 1.1],\n",
    "    [1.5, 1.6],\n",
    "    [1.1, 0.9]\n",
    "])\n",
    "\n",
    "# Estandarizar los datos\n",
    "X_mean = np.mean(X, axis=0)\n",
    "X_std = np.std(X, axis=0)\n",
    "X_std = (X - X_mean) / X_std\n",
    "\n",
    "# Calcular la matriz de covarianza\n",
    "cov_matrix = np.cov(X_std.T)\n",
    "\n",
    "# Calcular autovalores y autovectores\n",
    "eig_values, eig_vectors = np.linalg.eig(cov_matrix)\n",
    "\n",
    "print(\"Autovalores:\", eig_values)\n",
    "print(\"Autovectores:\\n\", eig_vectors)\n",
    "\n",
    "# Proyectar los datos en los componentes principales\n",
    "pca = PCA(n_components=2)\n",
    "X_pca = pca.fit_transform(X_std)\n",
    "\n",
    "# Visualizar los resultados\n",
    "plt.scatter(X_pca[:, 0], X_pca[:, 1], color='blue')\n",
    "plt.xlabel('PC1')\n",
    "plt.ylabel('PC2')\n",
    "plt.title('PCA de datos')\n",
    "plt.show()\n"
   ]
  },
  {
   "cell_type": "markdown",
   "metadata": {},
   "source": [
    "**Explicación:**\n",
    "\n",
    "1. **Estandarizar los datos**: Restamos la media y dividimos por la desviación estándar para cada característica.\n",
    "2. **Calcular la matriz de covarianza**: Utilizamos los datos estandarizados.\n",
    "3. **Calcular autovalores y autovectores**: Utilizamos la función `np.linalg.eig` para obtener los componentes principales.\n",
    "4. **Proyectar los datos en los componentes principales**: Utilizamos PCA para reducir la dimensionalidad y visualizar los datos en un espacio bidimensional.\n",
    "\n",
    "Estas aplicaciones de la inversión de matrices y la resolución de sistemas de ecuaciones lineales son fundamentales en Data Science, permitiendo la construcción de modelos precisos y el análisis efectivo de grandes conjuntos de datos."
   ]
  },
  {
   "cell_type": "markdown",
   "metadata": {},
   "source": [
    "### 1.1.2.3. Aplicaciones en Machine Learning\n",
    "\n",
    "El álgebra lineal es una herramienta esencial en Machine Learning, facilitando cálculos y operaciones fundamentales para el desarrollo y entrenamiento de modelos. Uno de los conceptos básicos en Machine Learning es la neurona perceptrón, la cual se utiliza en redes neuronales para clasificación y predicción.\n",
    "\n",
    "#### 1.1.2.3.1. Cálculos en la neurona perceptrón\n",
    "\n",
    "El perceptrón es una de las unidades básicas en una red neuronal. Su propósito es tomar un conjunto de entradas, aplicarles un peso, sumar los resultados, y pasar esta suma a través de una función de activación para producir una salida.\n",
    "\n",
    "**Concepto:**\n",
    "\n",
    "Un perceptrón recibe varios inputs \n",
    "$(x_1, x_2, \\ldots, x_n)$, cada uno con un peso asociado $(w_1, w_2, \\ldots, w_n)$. También incluye un término de sesgo $(b)$. La salida del perceptrón $(y)$ se calcula como:\n",
    "\n",
    "$$\n",
    "y = f\\left( \\sum_{i=1}^n w_i x_i + b \\right)\n",
    "$$\n",
    "\n",
    "Donde $f$ es una función de activación, como la función escalón (para un perceptrón simple), la función sigmoide o la función ReLU (para redes neuronales más complejas).\n",
    "\n",
    "**Analogía:**\n",
    "\n",
    "Piensa en un perceptrón como una toma de decisiones en un proceso de contratación. Cada candidato tiene diferentes atributos (educación, experiencia, habilidades), y cada uno de estos atributos tiene una importancia diferente (peso). El perceptrón suma estos atributos ponderados y decide si el candidato es adecuado (activación) o no.\n",
    "\n",
    "**Ejemplo práctico:**\n",
    "\n",
    "Supongamos que queremos entrenar un perceptrón para clasificar puntos en un plano 2D. Los puntos pertenecen a una de dos clases, y queremos que el perceptrón determine la clase basándose en sus coordenadas."
   ]
  },
  {
   "cell_type": "code",
   "execution_count": 135,
   "metadata": {},
   "outputs": [
    {
     "name": "stdout",
     "output_type": "stream",
     "text": [
      "Pesos entrenados: [0.28105166 0.08187171]\n",
      "Sesgo entrenado: -0.281832343359692\n",
      "Predicción para el punto (0.5, 0.5): 0\n"
     ]
    }
   ],
   "source": [
    "import numpy as np\n",
    "\n",
    "# Datos de entrenamiento (coordenadas x1, x2) y sus etiquetas (0 o 1)\n",
    "X = np.array([\n",
    "    [0, 0],\n",
    "    [0, 1],\n",
    "    [1, 0],\n",
    "    [1, 1]\n",
    "])\n",
    "\n",
    "y = np.array([0, 0, 0, 1])  # Clase OR\n",
    "\n",
    "# Inicializar pesos y sesgo\n",
    "w = np.random.rand(2)\n",
    "b = np.random.rand()\n",
    "\n",
    "# Función de activación (escalón)\n",
    "def activation(z):\n",
    "    return 1 if z >= 0 else 0\n",
    "\n",
    "# Función de entrenamiento del perceptrón\n",
    "def train_perceptron(X, y, w, b, epochs, learning_rate):\n",
    "    for epoch in range(epochs):\n",
    "        for i in range(len(y)):\n",
    "            # Cálculo de la salida\n",
    "            z = np.dot(X[i], w) + b\n",
    "            y_pred = activation(z)\n",
    "            \n",
    "            # Actualización de pesos y sesgo\n",
    "            error = y[i] - y_pred\n",
    "            w += learning_rate * error * X[i]\n",
    "            b += learning_rate * error\n",
    "    return w, b\n",
    "\n",
    "# Entrenar el perceptrón\n",
    "epochs = 10\n",
    "learning_rate = 0.1\n",
    "w, b = train_perceptron(X, y, w, b, epochs, learning_rate)\n",
    "\n",
    "print(\"Pesos entrenados:\", w)\n",
    "print(\"Sesgo entrenado:\", b)\n",
    "\n",
    "# Función para predecir la clase de nuevos puntos\n",
    "def predict(X, w, b):\n",
    "    z = np.dot(X, w) + b\n",
    "    return activation(z)\n",
    "\n",
    "# Probar el perceptrón entrenado\n",
    "X_test = np.array([0.5, 0.5])\n",
    "y_test_pred = predict(X_test, w, b)\n",
    "print(\"Predicción para el punto (0.5, 0.5):\", y_test_pred)"
   ]
  },
  {
   "cell_type": "markdown",
   "metadata": {},
   "source": [
    "**Explicación:**\n",
    "\n",
    "1. **Inicializar pesos y sesgo**: Comenzamos con valores aleatorios para los pesos $ w $ y el sesgo $ b $.\n",
    "2. **Función de activación**: Utilizamos la función escalón, que devuelve 1 si el valor de entrada es mayor o igual a 0, y 0 en caso contrario.\n",
    "3. **Entrenamiento del perceptrón**: Actualizamos los pesos y el sesgo en cada iteración del conjunto de datos basado en el error entre la predicción y la etiqueta real.\n",
    "4. **Predicción**: Utilizamos los pesos y el sesgo entrenados para predecir la clase de un nuevo punto.\n",
    "\n",
    "Este ejemplo ilustra cómo el perceptrón utiliza operaciones de álgebra lineal para aprender de los datos y tomar decisiones. Al comprender estos cálculos, podemos construir y entrenar modelos de Machine Learning más complejos para resolver una amplia variedad de problemas del mundo real."
   ]
  },
  {
   "cell_type": "markdown",
   "metadata": {},
   "source": [
    "#### 1.1.2.3.2. Descomposición en valores singulares (SVD) y reducción de dimensionalidad\n",
    "\n",
    "La descomposición en valores singulares (SVD) es una técnica poderosa en álgebra lineal que se utiliza para factorizar una matriz en tres matrices constituyentes. Es ampliamente utilizada en Machine Learning para la reducción de dimensionalidad, el filtrado colaborativo en sistemas de recomendación, y el análisis de componentes principales (PCA).\n",
    "\n",
    "**Concepto:**\n",
    "\n",
    "SVD descompone una matriz $\\mathbf{A}$ en el producto de tres matrices: $\\mathbf{U}$, $\\mathbf{\\Sigma}$, y $\\mathbf{V}^T$:\n",
    "\n",
    "$$\n",
    "\\mathbf{A} = \\mathbf{U} \\mathbf{\\Sigma} \\mathbf{V}^T\n",
    "$$\n",
    "\n",
    "Donde:\n",
    "- $\\mathbf{U}$ es una matriz ortogonal que contiene los vectores singulares izquierdos.\n",
    "- $\\mathbf{\\Sigma}$ es una matriz diagonal con los valores singulares.\n",
    "- $\\mathbf{V}^T$ es la transpuesta de una matriz ortogonal que contiene los vectores singulares derechos.\n",
    "\n",
    "**Aplicación:**\n",
    "\n",
    "En reducción de dimensionalidad, SVD se utiliza para proyectar los datos en un espacio de menor dimensión, preservando la mayor cantidad de información posible. En sistemas de recomendación, SVD se utiliza para predecir las preferencias de los usuarios basándose en patrones latentes en los datos.\n",
    "\n",
    "**Ejemplo práctico:**\n",
    "\n",
    "Supongamos que tenemos una matriz de calificaciones de usuarios a diferentes películas, y queremos recomendar películas a un usuario basándonos en sus calificaciones anteriores.\n"
   ]
  },
  {
   "cell_type": "code",
   "execution_count": 136,
   "metadata": {},
   "outputs": [
    {
     "name": "stdout",
     "output_type": "stream",
     "text": [
      "Matriz U:\n",
      " [[-0.43689593 -0.66924125 -0.29627751  0.48637475]\n",
      " [-0.29717498 -0.44308727 -0.05015708 -0.79591123]\n",
      " [-0.51589728  0.13631518  0.54893193  0.28612203]\n",
      " [-0.39999635  0.11077382  0.48349385 -0.20569271]\n",
      " [-0.54282768  0.5700326  -0.61205501 -0.0760895 ]]\n",
      "Matriz Sigma:\n",
      " [9.03171974 6.22925557 3.77397038 1.83890217]\n",
      "Matriz V^T:\n",
      " [[-0.47488998 -0.26234348 -0.3005118  -0.78444124]\n",
      " [-0.78203025 -0.20891356  0.45754472  0.36801718]\n",
      " [-0.17212379 -0.25224247 -0.81089006  0.49920382]\n",
      " [-0.36507752  0.907692   -0.20688838 -0.00329281]]\n",
      "Matriz de calificaciones aproximada:\n",
      " [[ 5.13406479  1.90612125 -0.72165061  1.5611261 ]\n",
      " [ 3.43308995  1.28075331 -0.45629689  1.08967559]\n",
      " [ 1.54866643  1.0449763   1.78873709  3.96755551]\n",
      " [ 1.17598269  0.80359806  1.40136891  3.08786154]\n",
      " [-0.44866693  0.5443561   3.09799526  5.15263893]]\n"
     ]
    }
   ],
   "source": [
    "import numpy as np\n",
    "\n",
    "# Matriz de calificaciones (usuarios x películas)\n",
    "R = np.array([\n",
    "    [5, 3, 0, 1],\n",
    "    [4, 0, 0, 1],\n",
    "    [1, 1, 0, 5],\n",
    "    [1, 0, 0, 4],\n",
    "    [0, 1, 5, 4],\n",
    "])\n",
    "\n",
    "# Aplicar SVD\n",
    "U, Sigma, VT = np.linalg.svd(R, full_matrices=False)\n",
    "\n",
    "print(\"Matriz U:\\n\", U)\n",
    "print(\"Matriz Sigma:\\n\", Sigma)\n",
    "print(\"Matriz V^T:\\n\", VT)\n",
    "\n",
    "# Reconstrucción aproximada de la matriz original usando k valores singulares\n",
    "k = 2\n",
    "Sigma_k = np.diag(Sigma[:k])\n",
    "U_k = U[:, :k]\n",
    "VT_k = VT[:k, :]\n",
    "\n",
    "R_approx = np.dot(np.dot(U_k, Sigma_k), VT_k)\n",
    "print(\"Matriz de calificaciones aproximada:\\n\", R_approx)"
   ]
  },
  {
   "cell_type": "markdown",
   "metadata": {},
   "source": [
    "al realizar una descomposición en valores singulares (SVD) de una matriz de calificaciones y luego reconstruye una aproximación de la matriz original utilizando solo los primeros $ k $ valores singulares. La matriz $U$ es una matriz ortogonal que contiene los vectores singulares izquierdos de la matriz original $R$. Cada columna de $U$ es un vector singular izquierdo, representando las características latentes de los usuarios en un espacio de características reducido. La matriz $\\Sigma$ es una matriz diagonal que contiene los valores singulares de $R$, ordenados de mayor a menor. Estos valores singulares indican la importancia de cada componente singular, donde un valor singular más grande significa que el componente correspondiente captura más variabilidad de los datos originales. La matriz $V^T$ es una matriz ortogonal que contiene los vectores singulares derechos de $R$. Cada fila de $V^T$ es un vector singular derecho, representando las características latentes de las películas en el espacio de características reducido.\n",
    "\n",
    "La matriz de calificaciones aproximada es la matriz $R$ reconstruida utilizando solo los primeros $k = 2$ valores singulares. La aproximación se obtiene multiplicando las matrices $U_k$, $\\Sigma_k$, y $V_k^T$, donde $U_k$ son las primeras $k$ columnas de $U$, $\\Sigma_k$ es una matriz diagonal con los primeros $k$ valores singulares, y $V_k^T$ son las primeras $k$ filas de $V^T$. La matriz aproximada intenta capturar la mayor parte de la variabilidad de la matriz original $R$ utilizando solo los componentes más significativos. Esto es útil en técnicas de reducción de dimensionalidad y en sistemas de recomendación para hacer predicciones basadas en patrones latentes en los datos.\n",
    "\n",
    "el proceso de descomposición SVD descompone la matriz original $R$ en tres matrices $U$, $\\Sigma$, y $V^T$. Luego, selecciona los primeros $k$ valores singulares y sus correspondientes vectores singulares, y finalmente multiplica las matrices seleccionadas para obtener una aproximación de la matriz original. Esta matriz aproximada puede ser utilizada, por ejemplo, en sistemas de recomendación para predecir calificaciones faltantes basándose en las características latentes de usuarios y películas."
   ]
  },
  {
   "cell_type": "markdown",
   "metadata": {},
   "source": [
    "## 1.2. Cálculo\n",
    "\n",
    "El cálculo es una rama fundamental de las matemáticas que se centra en el estudio de los cambios. En Data Science y Machine Learning, el cálculo se utiliza principalmente para optimizar funciones y entrenar modelos. Esto significa ajustar los parámetros de un modelo para mejorar su rendimiento y precisión. En esta sección, exploraremos las derivadas, que son herramientas esenciales para comprender y manejar los cambios.\n",
    "\n",
    "### 1.2.1. Derivadas\n",
    "\n",
    "Las derivadas son una medida de cómo una función cambia a medida que sus entradas cambian. En términos sencillos, una derivada nos dice la pendiente de una función en un punto específico, similar a cómo la pendiente de una colina nos dice qué tan empinada es en un punto dado.\n",
    "\n",
    "**Analogía:**\n",
    "\n",
    "Imagina que estás caminando por una colina. Si la colina es muy empinada en algún punto, podrías decir que la pendiente es alta. Si la colina es casi plana en otro punto, la pendiente es baja. La derivada es como una medida de esta pendiente en cualquier punto de la colina.\n",
    "\n",
    "#### 1.2.1.1. Reglas de derivación\n",
    "\n",
    "Para calcular derivadas, existen varias reglas que facilitan el proceso. Aquí abordaremos dos reglas fundamentales: la regla de la cadena y las derivadas parciales.\n",
    "\n",
    "##### 1.2.1.1.1. Regla de la cadena\n",
    "\n",
    "La regla de la cadena se utiliza para calcular la derivada de una función compuesta, es decir, una función que se aplica sobre otra función. Si tenemos dos funciones $ f $ y $ g $, donde $ f(g(x)) $, la derivada de esta composición se calcula como:\n",
    "\n",
    "$$ \n",
    "\\frac{d}{dx} f(g(x)) = f'(g(x)) \\cdot g'(x) \n",
    "$$\n",
    "\n",
    "Imagina que estás viajando en coche y hay dos tramos en tu viaje: primero conduces por una carretera plana y luego subes una montaña. La velocidad a la que subes la montaña depende de la velocidad a la que avanzas en la carretera. La regla de la cadena nos dice que la velocidad total del viaje se calcula multiplicando estas dos velocidades.\n",
    "\n",
    "**Ejemplo práctico:**\n",
    "\n",
    "Supongamos que tienes una función compuesta $ h(x) = \\sin(3x^2) $. Para encontrar la derivada de $ h $, usamos la regla de la cadena.\n"
   ]
  },
  {
   "cell_type": "code",
   "execution_count": 137,
   "metadata": {},
   "outputs": [
    {
     "name": "stdout",
     "output_type": "stream",
     "text": [
      "Derivada de sin(3x^2): 6*x*cos(3*x**2)\n"
     ]
    }
   ],
   "source": [
    "import sympy as sp\n",
    "\n",
    "x = sp.symbols('x')\n",
    "g = 3 * x**2\n",
    "f = sp.sin(g)\n",
    "\n",
    "# Usar la regla de la cadena para derivar\n",
    "h_prime = sp.diff(f, x)\n",
    "print(\"Derivada de sin(3x^2):\", h_prime)\n"
   ]
  },
  {
   "cell_type": "markdown",
   "metadata": {},
   "source": [
    "\n",
    "```\n",
    "Derivada de sin(3x^2): 6*x*cos(3*x**2)\n",
    "```\n",
    "\n",
    "**Explicación:**\n",
    "\n",
    "1. $$ g(x) = 3x^2 $$\n",
    "2. $$ f(u) = \\sin(u) $$ \n",
    "donde $ u = 3x^2 $\n",
    "3. Aplicamos la regla de la cadena: $$ f'(u) \\cdot g'(x) = \\cos(3x^2) \\cdot 6x $$\n",
    "\n",
    "##### 1.2.1.1.2. Derivadas parciales\n",
    "\n",
    "Las derivadas parciales son utilizadas cuando trabajamos con funciones de múltiples variables. Una derivada parcial mide cómo cambia la función respecto a una variable, manteniendo las otras constantes.\n",
    "\n",
    "Si $$f(x, y) $$ es una función de dos variables, la derivada parcial de $f$ respecto a $x$ se denota como $$ \\frac{\\partial f}{\\partial x}$$, y respecto a $y$ como $$ \\frac{\\partial f}{\\partial y} $$.\n",
    "\n",
    "Imagina que estás en una colina y quieres medir la inclinación en dos direcciones diferentes: norte-sur y este-oeste. La inclinación en cada dirección es como una derivada parcial respecto a esa dirección.\n",
    "\n",
    "**Ejemplo práctico:**\n",
    "\n",
    "Consideremos una función de dos variables $f(x, y) = x^2y + 3xy^2 $. Queremos encontrar las derivadas parciales de $f$ respecto a $x$ y $y$."
   ]
  },
  {
   "cell_type": "code",
   "execution_count": 138,
   "metadata": {},
   "outputs": [
    {
     "name": "stdout",
     "output_type": "stream",
     "text": [
      "Derivada parcial respecto a x: 2*x*y + 3*y**2\n",
      "Derivada parcial respecto a y: x**2 + 6*x*y\n"
     ]
    }
   ],
   "source": [
    "x, y = sp.symbols('x y')\n",
    "f = x**2 * y + 3 * x * y**2\n",
    "\n",
    "# Derivada parcial respecto a x\n",
    "partial_x = sp.diff(f, x)\n",
    "print(\"Derivada parcial respecto a x:\", partial_x)\n",
    "\n",
    "# Derivada parcial respecto a y\n",
    "partial_y = sp.diff(f, y)\n",
    "print(\"Derivada parcial respecto a y:\", partial_y)"
   ]
  },
  {
   "cell_type": "markdown",
   "metadata": {},
   "source": [
    "```\n",
    "Derivada parcial respecto a x: 2*x*y + 3*y**2\n",
    "Derivada parcial respecto a y: x**2 + 6*x*y\n",
    "```\n",
    "\n",
    "**Explicación:**\n",
    "\n",
    "1. Derivada parcial respecto a $ x $: Consideramos $ y $ como constante y derivamos $ f $ respecto a $ x $.\n",
    "2. Derivada parcial respecto a $ y $: Consideramos $ x $ como constante y derivamos $ f $ respecto a $ y $.\n",
    "\n",
    "Estas reglas de derivación son fundamentales en el cálculo y son ampliamente utilizadas en la optimización de funciones, que es crucial para el entrenamiento de modelos de Machine Learning. Al comprender cómo se calculan y aplican estas derivadas, podemos mejorar el rendimiento de nuestros modelos y resolver problemas complejos de manera más eficiente."
   ]
  },
  {
   "cell_type": "markdown",
   "metadata": {},
   "source": [
    "### 1.2.1.2. Optimización y gradiente descendente\n",
    "\n",
    "La optimización es un proceso crucial en Machine Learning, ya que nos permite ajustar los parámetros de un modelo para minimizar una función de pérdida y mejorar su rendimiento. Una de las técnicas más populares para la optimización es el gradiente descendente. En esta sección, también exploraremos el método de Newton, una técnica más avanzada para encontrar mínimos y máximos de funciones.\n",
    "\n",
    "#### 1.2.1.2.1. Método de Newton\n",
    "\n",
    "El método de Newton es una técnica iterativa para encontrar los ceros o los puntos críticos de una función. Se utiliza para resolver ecuaciones no lineales y para encontrar los máximos y mínimos de funciones.\n",
    "\n",
    "**Concepto:**\n",
    "\n",
    "Dado un punto inicial $x_0$, el método de Newton utiliza la derivada y la segunda derivada de la función para aproximar el siguiente punto $x_{n+1}$:\n",
    "\n",
    "$$\\ x_{n+1} = x_n - \\frac{f'(x_n)}{f''(x_n)} \\$$\n",
    "\n",
    "Este proceso se repite hasta que la diferencia entre $x_{n+1}$ y $x_n$ sea lo suficientemente pequeña.\n",
    "\n",
    "Imagina que estás en la cima de una colina y quieres llegar al valle más cercano. El método de Newton te dice la dirección y la distancia óptima para bajar, basándose en la pendiente (primera derivada) y la curvatura (segunda derivada) del terreno en tu posición actual.\n",
    "\n",
    "**Ejemplo práctico:**\n",
    "\n",
    "Supongamos que queremos encontrar el mínimo de la función $ f(x) = x^3 - 2x + 2 $ usando el método de Newton."
   ]
  },
  {
   "cell_type": "code",
   "execution_count": 139,
   "metadata": {},
   "outputs": [
    {
     "name": "stdout",
     "output_type": "stream",
     "text": [
      "Error al encontrar el mínimo: Invalid NaN comparison\n"
     ]
    }
   ],
   "source": [
    "import sympy as sp\n",
    "\n",
    "x = sp.symbols('x')\n",
    "f = x**3 - 2*x + 2\n",
    "\n",
    "# Calcular la primera y segunda derivada\n",
    "f_prime = sp.diff(f, x)\n",
    "f_double_prime = sp.diff(f_prime, x)\n",
    "\n",
    "# Implementar el método de Newton\n",
    "def newton_method(f, f_prime, f_double_prime, x0, tol=1e-6, max_iter=100):\n",
    "    x_n = x0\n",
    "    for _ in range(max_iter):\n",
    "        f_prime_val = f_prime.evalf(subs={x: x_n})\n",
    "        f_double_prime_val = f_double_prime.evalf(subs={x: x_n})\n",
    "        x_n1 = x_n - f_prime_val / f_double_prime_val\n",
    "        if abs(x_n1 - x_n) < tol:\n",
    "            break\n",
    "        x_n = x_n1\n",
    "    return x_n\n",
    "\n",
    "# Encontrar el mínimo empezando en x0 = 0\n",
    "try:\n",
    "    min_x = newton_method(f, f_prime, f_double_prime, x0=0)\n",
    "    print(\"Mínimo de la función en x:\", min_x)\n",
    "except TypeError as e:\n",
    "    print(f\"Error al encontrar el mínimo: {e}\")"
   ]
  },
  {
   "cell_type": "markdown",
   "metadata": {},
   "source": [
    "#### 1.2.1.2.2. Implementación de gradiente descendente en Python\n",
    "\n",
    "El gradiente descendente es un algoritmo de optimización iterativo utilizado para minimizar funciones, especialmente en el contexto de la optimización de modelos de Machine Learning. Ajusta los parámetros del modelo en la dirección del gradiente negativo de la función de pérdida.\n",
    "\n",
    "**Concepto:**\n",
    "\n",
    "Para una función $ f(x) $, el gradiente descendente actualiza los parámetros $ x $ siguiendo la fórmula:\n",
    "\n",
    "$$ x_{n+1} = x_n - \\alpha \\nabla f(x_n) $$\n",
    "\n",
    "Donde:\n",
    "- $ x_n $ es el valor actual del parámetro.\n",
    "- $ \\alpha $ es la tasa de aprendizaje, que determina el tamaño del paso de actualización.\n",
    "- $ \\nabla f(x_n) $ es el gradiente de la función en $ x_n $.\n",
    "\n",
    "**Analogía:**\n",
    "\n",
    "Imagina que estás caminando por una colina y quieres llegar al punto más bajo. El gradiente descendente te dice en qué dirección debes caminar (pendiente negativa) y cuánto debes caminar (tasa de aprendizaje) para descender más rápido.\n",
    "\n",
    "**Ejemplo práctico:**\n",
    "\n",
    "Supongamos que queremos minimizar la función $ f(x) = x^2 + 4x + 4 $ usando el gradiente descendente."
   ]
  },
  {
   "cell_type": "code",
   "execution_count": 140,
   "metadata": {},
   "outputs": [
    {
     "name": "stdout",
     "output_type": "stream",
     "text": [
      "Mínimo de la función en x: -1.9999952109514347\n"
     ]
    }
   ],
   "source": [
    "import numpy as np\n",
    "\n",
    "# Definir la función y su derivada\n",
    "def f(x):\n",
    "    return x**2 + 4*x + 4\n",
    "\n",
    "def f_prime(x):\n",
    "    return 2*x + 4\n",
    "\n",
    "# Implementar el gradiente descendente\n",
    "def gradient_descent(f_prime, x0, learning_rate, tol=1e-6, max_iter=1000):\n",
    "    x_n = x0\n",
    "    for _ in range(max_iter):\n",
    "        x_n1 = x_n - learning_rate * f_prime(x_n)\n",
    "        if abs(x_n1 - x_n) < tol:\n",
    "            break\n",
    "        x_n = x_n1\n",
    "    return x_n\n",
    "\n",
    "# Minimizar la función empezando en x0 = 0\n",
    "min_x = gradient_descent(f_prime, x0=0, learning_rate=0.1)\n",
    "print(\"Mínimo de la función en x:\", min_x)"
   ]
  },
  {
   "cell_type": "markdown",
   "metadata": {},
   "source": [
    "**Explicación:**\n",
    "\n",
    "1. **Definir la función y su derivada:** $ f(x) = x^2 + 4x + 4 $ y $ f'(x) = 2x + 4 $.\n",
    "2. **Implementar el gradiente descendente:** Actualizamos $ x $ en la dirección del gradiente negativo hasta que converja al mínimo.\n",
    "3. **Minimizar la función:** Comenzamos en $ x0 = 0 $ y utilizamos una tasa de aprendizaje de 0.1.\n",
    "\n",
    "El gradiente descendente es ampliamente utilizado en Machine Learning para entrenar modelos, como redes neuronales, donde se optimizan los pesos para minimizar la función de pérdida y mejorar el rendimiento del modelo."
   ]
  },
  {
   "cell_type": "markdown",
   "metadata": {},
   "source": [
    "### 1.2.2. Integrales\n",
    "\n",
    "Las integrales son una herramienta matemática que nos permite calcular áreas bajo una curva, acumulación de cantidades y otras sumas continuas. En Data Science, las integrales pueden ser utilizadas para calcular probabilidades, áreas de funciones de densidad y en métodos numéricos para la aproximación de soluciones.\n",
    "\n",
    "**Analogía:**\n",
    "\n",
    "Piensa en las integrales como una forma de sumar infinitas pequeñas cantidades para obtener una cantidad total. Por ejemplo, si quieres saber cuánta agua se acumula en un tanque con una entrada de agua variable, las integrales te ayudarán a calcular la cantidad total de agua acumulada.\n",
    "\n",
    "#### 1.2.2.1. Técnicas de integración\n",
    "\n",
    "Existen varias técnicas para calcular integrales. Aquí veremos dos técnicas fundamentales: integración por partes e integración numérica.\n",
    "\n",
    "##### 1.2.2.1.1. Integración por partes\n",
    "\n",
    "La integración por partes es una técnica derivada de la regla del producto para derivadas. Se utiliza para integrar productos de funciones. La fórmula para la integración por partes es:\n",
    "\n",
    "$$ \\int u \\, dv = uv - \\int v \\, du $$\n",
    "\n",
    "Donde $ u $ y $ dv $ son partes del integrando que elegimos estratégicamente.\n",
    "\n",
    "**Analogía:**\n",
    "\n",
    "Imagina que estás desempaquetando un regalo complicado. Tienes que desatar un lazo (parte fácil) antes de abrir la caja (parte complicada). La integración por partes nos ayuda a simplificar una integral complicada en una más manejable.\n",
    "\n",
    "**Ejemplo práctico:**\n",
    "\n",
    "Supongamos que queremos integrar $ \\int x e^x \\, dx $.\n",
    "\n",
    "1. Elegimos $ u = x $ y $ dv = e^x \\, dx $.\n",
    "2. Calculamos $ du = dx $ y $ v = e^x $.\n",
    "\n",
    "Aplicamos la fórmula de integración por partes:\n",
    "\n",
    "$$ \\int x e^x \\, dx = x e^x - \\int e^x \\, dx = x e^x - e^x + C $$\n",
    "\n",
    "En Python, podemos verificar esto usando SymPy:"
   ]
  },
  {
   "cell_type": "code",
   "execution_count": 141,
   "metadata": {},
   "outputs": [
    {
     "name": "stdout",
     "output_type": "stream",
     "text": [
      "Integral de x * e^x: (x - 1)*exp(x)\n"
     ]
    }
   ],
   "source": [
    "import sympy as sp\n",
    "\n",
    "x = sp.symbols('x')\n",
    "integral = sp.integrate(x * sp.exp(x), x)\n",
    "print(\"Integral de x * e^x:\", integral)"
   ]
  },
  {
   "cell_type": "markdown",
   "metadata": {},
   "source": [
    "\n",
    "```\n",
    "Integral de x * e^x: x*exp(x) - exp(x)\n",
    "```\n",
    "\n",
    "##### 1.2.2.1.2. Integración numérica (regla del trapecio, Simpson)\n",
    "\n",
    "Cuando las integrales no pueden resolverse de forma analítica, recurrimos a métodos numéricos para aproximarlas. Dos métodos comunes son la regla del trapecio y la regla de Simpson.\n",
    "\n",
    "**Regla del trapecio:**\n",
    "\n",
    "La regla del trapecio aproxima el área bajo una curva sumando áreas de trapecios formados bajo la curva. La fórmula es:\n",
    "\n",
    "$$ \\int_a^b f(x) \\, dx \\approx \\frac{b-a}{2} [f(a) + f(b)] $$\n",
    "\n",
    "Para mejorar la precisión, dividimos el intervalo en $ n $ subintervalos.\n",
    "\n",
    "**Analogía:**\n",
    "\n",
    "Piensa en esto como dividir una colina en pequeñas secciones rectangulares y calcular el área de cada una. La suma de estas áreas aproximará el área total bajo la colina.\n",
    "\n",
    "**Ejemplo práctico:**\n",
    "\n",
    "Aproximemos la integral de $ f(x) = x^2 $ de 0 a 1 usando la regla del trapecio."
   ]
  },
  {
   "cell_type": "code",
   "execution_count": 142,
   "metadata": {},
   "outputs": [
    {
     "name": "stdout",
     "output_type": "stream",
     "text": [
      "Aproximación de la integral usando la regla del trapecio: 0.3333499999999999\n"
     ]
    }
   ],
   "source": [
    "import numpy as np\n",
    "\n",
    "def f(x):\n",
    "    return x**2\n",
    "\n",
    "a, b = 0, 1\n",
    "n = 100  # número de subintervalos\n",
    "h = (b - a) / n\n",
    "x = np.linspace(a, b, n+1)\n",
    "y = f(x)\n",
    "\n",
    "integral_trapecio = (h/2) * np.sum(y[:-1] + y[1:])\n",
    "print(\"Aproximación de la integral usando la regla del trapecio:\", integral_trapecio)"
   ]
  },
  {
   "cell_type": "markdown",
   "metadata": {},
   "source": [
    "**Salida:**\n",
    "\n",
    "```\n",
    "Aproximación de la integral usando la regla del trapecio: 0.33335\n",
    "```\n",
    "\n",
    "**Regla de Simpson:**\n",
    "\n",
    "La regla de Simpson utiliza parabolas para aproximar el área bajo una curva. Es más precisa que la regla del trapecio. La fórmula es:\n",
    "\n",
    "$$ \\int_a^b f(x) \\, dx \\approx \\frac{b-a}{6} [f(a) + 4f\\left(\\frac{a+b}{2}\\right) + f(b)] $$\n",
    "\n",
    "Para mejorar la precisión, también dividimos el intervalo en $ n $ subintervalos (debe ser un número par).\n",
    "\n",
    "**Analogía:**\n",
    "\n",
    "En lugar de usar rectángulos, piensa en usar segmentos de parábolas para seguir la forma de la colina más de cerca, obteniendo una mejor aproximación del área total.\n",
    "\n",
    "**Ejemplo práctico:**\n",
    "\n",
    "Aproximemos la integral de $ f(x) = x^2 $ de 0 a 1 usando la regla de Simpson."
   ]
  },
  {
   "cell_type": "code",
   "execution_count": 143,
   "metadata": {},
   "outputs": [
    {
     "name": "stdout",
     "output_type": "stream",
     "text": [
      "Aproximación de la integral usando la regla de Simpson: 0.33333333333333337\n"
     ]
    }
   ],
   "source": [
    "def simpson(f, a, b, n):\n",
    "    if n % 2:\n",
    "        raise ValueError(\"n debe ser par.\")\n",
    "    h = (b - a) / n\n",
    "    x = np.linspace(a, b, n+1)\n",
    "    y = f(x)\n",
    "    S = y[0] + y[-1] + 4 * np.sum(y[1:-1:2]) + 2 * np.sum(y[2:-2:2])\n",
    "    return h / 3 * S\n",
    "\n",
    "a, b = 0, 1\n",
    "n = 100  # número de subintervalos (debe ser par)\n",
    "\n",
    "integral_simpson = simpson(f, a, b, n)\n",
    "print(\"Aproximación de la integral usando la regla de Simpson:\", integral_simpson)"
   ]
  },
  {
   "cell_type": "markdown",
   "metadata": {},
   "source": [
    "**Explicación:**\n",
    "\n",
    "- **Regla del trapecio:** Aproxima el área bajo la curva sumando áreas de trapecios.\n",
    "- **Regla de Simpson:** Aproxima el área bajo la curva sumando áreas de parabolas.\n",
    "\n",
    "### Aplicaciones Prácticas en Data Science y Machine Learning\n",
    "\n",
    "**1. Probabilidad y Estadística:**\n",
    "\n",
    "Las integrales se utilizan para calcular probabilidades en distribuciones continuas. Por ejemplo, la probabilidad de que una variable aleatoria $ X $ tome un valor dentro de un intervalo específico se calcula integrando su función de densidad de probabilidad (pdf).\n",
    "\n",
    "**Ejemplo práctico:**\n",
    "\n",
    "Calculemos la probabilidad de que una variable aleatoria con distribución normal estándar (media = 0, desviación estándar = 1) esté entre -1 y 1."
   ]
  },
  {
   "cell_type": "code",
   "execution_count": 144,
   "metadata": {},
   "outputs": [
    {
     "name": "stdout",
     "output_type": "stream",
     "text": [
      "Probabilidad de que una variable normal estándar esté entre -1 y 1: 0.6826893308232481\n"
     ]
    }
   ],
   "source": [
    "from scipy.stats import norm\n",
    "\n",
    "# Función de densidad de probabilidad para la distribución normal estándar\n",
    "pdf = norm.pdf\n",
    "\n",
    "# Integración numérica para calcular la probabilidad\n",
    "a, b = -1, 1\n",
    "n = 1000\n",
    "x = np.linspace(a, b, n+1)\n",
    "y = pdf(x)\n",
    "\n",
    "integral_trapecio = (b-a) / (2*n) * np.sum(y[:-1] + y[1:])\n",
    "print(\"Probabilidad de que una variable normal estándar esté entre -1 y 1:\", integral_trapecio)"
   ]
  },
  {
   "cell_type": "markdown",
   "metadata": {},
   "source": [
    "**2. Cálculo de Áreas bajo Curvas ROC:**\n",
    "\n",
    "En Machine Learning, las curvas ROC (Receiver Operating Characteristic) se utilizan para evaluar el rendimiento de un clasificador binario. El área bajo la curva ROC (AUC) se calcula utilizando integración numérica.\n",
    "\n",
    "**Ejemplo práctico:**\n",
    "\n",
    "Supongamos que tenemos los puntos de una curva ROC y queremos calcular el AUC usando la regla del trapecio."
   ]
  },
  {
   "cell_type": "code",
   "execution_count": 145,
   "metadata": {},
   "outputs": [
    {
     "name": "stdout",
     "output_type": "stream",
     "text": [
      "Área bajo la curva ROC (AUC): 0.74\n"
     ]
    }
   ],
   "source": [
    "# Puntos de la curva ROC\n",
    "fpr = np.array([0.0, 0.1, 0.4, 0.5, 1.0])  # Tasa de falsos positivos\n",
    "tpr = np.array([0.0, 0.4, 0.7, 0.9, 1.0])  # Tasa de verdaderos positivos\n",
    "\n",
    "# Calcular el AUC usando la regla del trapecio\n",
    "auc = np.trapz(tpr, fpr)\n",
    "print(\"Área bajo la curva ROC (AUC):\", auc)"
   ]
  },
  {
   "cell_type": "markdown",
   "metadata": {},
   "source": [
    "Estas aplicaciones prácticas muestran cómo las técnicas de integración son esenciales en Data Science y Machine Learning para resolver problemas que involucran acumulación de cantidades, probabilidades y evaluación de modelos."
   ]
  },
  {
   "cell_type": "markdown",
   "metadata": {},
   "source": [
    "### 1.2.2. Integrales\n",
    "\n",
    "Las integrales son una herramienta matemática que nos permite calcular áreas bajo una curva, acumulación de cantidades y otras sumas continuas. En Data Science, las integrales pueden ser utilizadas para calcular probabilidades, áreas de funciones de densidad y en métodos numéricos para la aproximación de soluciones.\n",
    "\n",
    "**Analogía:**\n",
    "\n",
    "Piensa en las integrales como una forma de sumar infinitas pequeñas cantidades para obtener una cantidad total. Por ejemplo, si quieres saber cuánta agua se acumula en un tanque con una entrada de agua variable, las integrales te ayudarán a calcular la cantidad total de agua acumulada.\n",
    "\n",
    "#### 1.2.2.2. Aplicaciones en probabilidad y estadística\n",
    "\n",
    "Las integrales juegan un papel crucial en la probabilidad y estadística, especialmente cuando trabajamos con distribuciones continuas. Aquí veremos dos aplicaciones fundamentales: el cálculo de áreas bajo la curva de densidad y los momentos de distribuciones continuas.\n",
    "\n",
    "##### 1.2.2.2.1. Cálculo de áreas bajo la curva de densidad\n",
    "\n",
    "En probabilidad y estadística, las áreas bajo la curva de densidad de una distribución continua representan probabilidades. La integral de la función de densidad de probabilidad (pdf) sobre un intervalo nos da la probabilidad de que una variable aleatoria continua caiga dentro de ese intervalo.\n",
    "\n",
    "**Analogía:**\n",
    "\n",
    "Imagina que tienes una gráfica que muestra la densidad de personas en una ciudad a lo largo de un día. La integral de esta gráfica sobre un cierto período te dirá cuántas personas estaban presentes en ese tiempo.\n",
    "\n",
    "**Ejemplo práctico:**\n",
    "\n",
    "Calculemos la probabilidad de que una variable aleatoria con distribución normal estándar (media = 0, desviación estándar = 1) esté entre -1 y 1."
   ]
  },
  {
   "cell_type": "code",
   "execution_count": 146,
   "metadata": {},
   "outputs": [
    {
     "name": "stdout",
     "output_type": "stream",
     "text": [
      "Probabilidad de que una variable normal estándar esté entre -1 y 1: 0.6826894921370859\n"
     ]
    }
   ],
   "source": [
    "from scipy.stats import norm\n",
    "\n",
    "# Parámetros de la distribución normal estándar\n",
    "mu, sigma = 0, 1\n",
    "\n",
    "# Calcular la probabilidad utilizando la función de distribución acumulativa (CDF)\n",
    "probabilidad = norm.cdf(1, loc=mu, scale=sigma) - norm.cdf(-1, loc=mu, scale=sigma)\n",
    "print(\"Probabilidad de que una variable normal estándar esté entre -1 y 1:\", probabilidad)"
   ]
  },
  {
   "cell_type": "markdown",
   "metadata": {},
   "source": [
    "**Explicación:**\n",
    "\n",
    "- Utilizamos la función de distribución acumulativa (CDF) para calcular la probabilidad acumulada hasta un punto específico.\n",
    "- La probabilidad de que la variable esté entre -1 y 1 es la diferencia entre las probabilidades acumuladas en 1 y -1.\n",
    "\n",
    "##### 1.2.2.2.2. Momentos de distribuciones continuas\n",
    "\n",
    "Los momentos de una distribución continua proporcionan información sobre la forma y las características de la distribución. Los dos momentos más comunes son la media y la varianza.\n",
    "\n",
    "**Media (primer momento):**\n",
    "\n",
    "La media de una distribución continua es el valor esperado de la variable aleatoria y se calcula como:\n",
    "\n",
    "$$ \\mu = \\int_{-\\infty}^{\\infty} x f(x) \\, dx $$\n",
    "\n",
    "**Varianza (segundo momento):**\n",
    "\n",
    "La varianza mide la dispersión de los valores alrededor de la media y se calcula como:\n",
    "\n",
    "$$ \\sigma^2 = \\int_{-\\infty}^{\\infty} (x - \\mu)^2 f(x) \\, dx $$\n",
    "\n",
    "**Analogía:**\n",
    "\n",
    "La media es como el centro de gravedad de una barra. La varianza indica qué tan lejos están los puntos de la barra del centro de gravedad.\n",
    "\n",
    "**Ejemplo práctico:**\n",
    "\n",
    "Calculemos la media y la varianza de una distribución exponencial con parámetro $ \\lambda = 1 $."
   ]
  },
  {
   "cell_type": "code",
   "execution_count": 147,
   "metadata": {},
   "outputs": [
    {
     "name": "stdout",
     "output_type": "stream",
     "text": [
      "Media de la distribución exponencial: 1\n",
      "Varianza de la distribución exponencial: 1\n"
     ]
    }
   ],
   "source": [
    "import numpy as np\n",
    "import sympy as sp\n",
    "\n",
    "# Parámetro de la distribución exponencial\n",
    "lam = 1\n",
    "\n",
    "# Variable y función de densidad de probabilidad\n",
    "x = sp.symbols('x')\n",
    "pdf = lam * sp.exp(-lam * x)\n",
    "\n",
    "# Calcular la media\n",
    "media = sp.integrate(x * pdf, (x, 0, sp.oo))\n",
    "print(\"Media de la distribución exponencial:\", media)\n",
    "\n",
    "# Calcular la varianza\n",
    "varianza = sp.integrate((x - media)**2 * pdf, (x, 0, sp.oo))\n",
    "print(\"Varianza de la distribución exponencial:\", varianza)"
   ]
  },
  {
   "cell_type": "markdown",
   "metadata": {},
   "source": [
    "**Explicación:**\n",
    "\n",
    "- **Media:** Integramos $ x $ multiplicado por la pdf sobre el dominio de la variable.\n",
    "- **Varianza:** Integramos $ (x - \\mu)^2 $ multiplicado por la pdf sobre el dominio de la variable.\n",
    "\n",
    "### Aplicaciones prácticas en Data Science y Machine Learning\n",
    "\n",
    "**1. Evaluación de Modelos:**\n",
    "\n",
    "En Machine Learning, las curvas ROC y AUC se utilizan para evaluar el rendimiento de clasificadores binarios. El área bajo la curva ROC se calcula usando integrales.\n",
    "\n",
    "**Ejemplo práctico:**\n",
    "\n",
    "Supongamos que tenemos los puntos de una curva ROC y queremos calcular el AUC usando la regla del trapecio."
   ]
  },
  {
   "cell_type": "code",
   "execution_count": 148,
   "metadata": {},
   "outputs": [
    {
     "name": "stdout",
     "output_type": "stream",
     "text": [
      "Área bajo la curva ROC (AUC): 0.74\n"
     ]
    }
   ],
   "source": [
    "# Puntos de la curva ROC\n",
    "fpr = np.array([0.0, 0.1, 0.4, 0.5, 1.0])  # Tasa de falsos positivos\n",
    "tpr = np.array([0.0, 0.4, 0.7, 0.9, 1.0])  # Tasa de verdaderos positivos\n",
    "\n",
    "# Calcular el AUC usando la regla del trapecio\n",
    "auc = np.trapz(tpr, fpr)\n",
    "print(\"Área bajo la curva ROC (AUC):\", auc)\n"
   ]
  },
  {
   "cell_type": "markdown",
   "metadata": {},
   "source": [
    "**2. Optimización de Modelos:**\n",
    "\n",
    "Los momentos de las distribuciones continuas pueden ser utilizados para estimar parámetros en modelos probabilísticos, como en la estimación de máxima verosimilitud.\n",
    "\n",
    "**Ejemplo práctico:**\n",
    "\n",
    "Supongamos que estamos ajustando una distribución normal a datos observados y queremos estimar la media y la varianza.\n",
    "\n"
   ]
  },
  {
   "cell_type": "code",
   "execution_count": 149,
   "metadata": {},
   "outputs": [
    {
     "name": "stdout",
     "output_type": "stream",
     "text": [
      "Media estimada: 3.75\n",
      "Varianza estimada: 0.7291666666666666\n"
     ]
    }
   ],
   "source": [
    "from scipy.stats import norm\n",
    "\n",
    "# Datos observados\n",
    "datos = np.array([2.5, 3.0, 3.5, 4.0, 4.5, 5.0])\n",
    "\n",
    "# Estimar los parámetros usando momentos\n",
    "media_estimada = np.mean(datos)\n",
    "varianza_estimada = np.var(datos)\n",
    "\n",
    "# Ajustar la distribución normal a los datos\n",
    "distribucion_ajustada = norm(loc=media_estimada, scale=np.sqrt(varianza_estimada))\n",
    "\n",
    "print(\"Media estimada:\", media_estimada)\n",
    "print(\"Varianza estimada:\", varianza_estimada)"
   ]
  },
  {
   "cell_type": "markdown",
   "metadata": {},
   "source": [
    "Estas aplicaciones prácticas muestran cómo las técnicas de integración y el cálculo de momentos son esenciales en Data Science y Machine Learning para resolver problemas que involucran probabilidades, evaluación de modelos y estimación de parámetros."
   ]
  },
  {
   "cell_type": "markdown",
   "metadata": {},
   "source": [
    "## 1.3. Probabilidad\n",
    "\n",
    "La probabilidad es una rama de las matemáticas que se ocupa del estudio de los fenómenos aleatorios. En Data Science y Machine Learning, la probabilidad se utiliza para modelar la incertidumbre, hacer predicciones y tomar decisiones informadas basadas en datos. En esta sección, exploraremos conceptos básicos de probabilidad, espacios muestrales, eventos y el Teorema de Bayes.\n",
    "\n",
    "### 1.3.1. Conceptos básicos\n",
    "\n",
    "#### 1.3.1.1. Espacios muestrales y eventos\n",
    "\n",
    "El espacio muestral es el conjunto de todos los resultados posibles de un experimento aleatorio. Un evento es un subconjunto del espacio muestral. \n",
    "\n",
    "**Analogía:**\n",
    "\n",
    "Imagina que lanzas un dado. El espacio muestral es el conjunto de todos los posibles resultados $\\{1, 2, 3, 4, 5, 6\\}$. Un evento podría ser \"sacar un número par\", que incluye los resultados $\\{2, 4, 6\\}$.\n",
    "\n",
    "##### 1.3.1.1.1. Diagramas de Venn y operaciones de conjuntos\n",
    "\n",
    "Los diagramas de Venn son herramientas visuales que se utilizan para representar espacios muestrales y eventos, y para ilustrar las relaciones entre diferentes eventos.\n",
    "\n",
    "**Operaciones de conjuntos:**\n",
    "\n",
    "1. **Unión ($A \\cup B$)**: Representa todos los resultados que están en el evento $A$ o en el evento $B$ (o en ambos).\n",
    "2. **Intersección ($A \\cap B$)**: Representa todos los resultados que están en ambos eventos $A$ y $B$.\n",
    "3. **Complemento ($A^c$)**: Representa todos los resultados que no están en el evento $A$.\n",
    "\n",
    "**Ejemplo práctico:**\n",
    "\n",
    "Supongamos que tenemos dos eventos: $A$ (sacar un número par) y $B$ (sacar un número mayor que 4) cuando se lanza un dado. Podemos visualizar estos eventos con un diagrama de Venn.\n"
   ]
  },
  {
   "cell_type": "code",
   "execution_count": 150,
   "metadata": {},
   "outputs": [
    {
     "data": {
      "image/png": "[encoded data removed]",
      "text/plain": [
       "<Figure size 640x480 with 1 Axes>"
      ]
     },
     "metadata": {},
     "output_type": "display_data"
    }
   ],
   "source": [
    "import matplotlib.pyplot as plt\n",
    "from matplotlib_venn import venn2\n",
    "\n",
    "# Crear un diagrama de Venn\n",
    "venn2(subsets=(3, 2, 1), set_labels=('A: Par', 'B: > 4'))\n",
    "\n",
    "plt.title(\"Diagrama de Venn de eventos A y B\")\n",
    "plt.show()\n"
   ]
  },
  {
   "cell_type": "markdown",
   "metadata": {},
   "source": [
    "**Salida:**\n",
    "\n",
    "Un diagrama de Venn mostrando la unión y la intersección de los eventos $A$ y $B$.\n",
    "\n",
    "##### 1.3.1.1.2. Probabilidad de la unión e intersección de eventos\n",
    "\n",
    "La probabilidad de la unión e intersección de eventos se calcula utilizando las siguientes fórmulas:\n",
    "\n",
    "1. **Unión ($P(A \\cup B)$)**:\n",
    "\n",
    "$$ P(A \\cup B) = P(A) + P(B) - P(A \\cap B) $$\n",
    "\n",
    "2. **Intersección ($P(A \\cap B)$)**:\n",
    "\n",
    "$$ \n",
    "P(A \\cap B) = P(A) \\cdot P(B) \n",
    "$$ \n",
    "(si $A$ y $B$ son independientes)\n",
    "\n",
    "**Ejemplo práctico:**\n",
    "\n",
    "Supongamos que tenemos un dado justo y queremos calcular la probabilidad de sacar un número par ($A$) o un número mayor que 4 ($B$).\n",
    "\n",
    "1. $ P(A) = \\frac{3}{6} = 0.5 $\n",
    "2. $ P(B) = \\frac{2}{6} \\approx 0.33 $\n",
    "3. $ P(A \\cap B) = \\frac{1}{6} \\approx 0.17 $ (sólo el número 6 es par y mayor que 4)\n",
    "\n",
    "$$ P(A \\cup B) = 0.5 + 0.33 - 0.17 = 0.66 $$\n",
    "\n",
    "#### 1.3.1.2. Probabilidad condicional y Teorema de Bayes\n",
    "\n",
    "La probabilidad condicional mide la probabilidad de que ocurra un evento dado que otro evento ha ocurrido. El Teorema de Bayes relaciona las probabilidades condicionales de eventos inversos.\n",
    "\n",
    "##### 1.3.1.2.1. Independencia de eventos\n",
    "\n",
    "Dos eventos $A$ y $B$ son independientes si la ocurrencia de uno no afecta la probabilidad de ocurrencia del otro. Matemáticamente, $A$ y $B$ son independientes si:\n",
    "\n",
    "$$ P(A \\cap B) = P(A) \\cdot P(B) $$\n",
    "\n",
    "**Ejemplo práctico:**\n",
    "\n",
    "Supongamos que lanzamos dos monedas justas. El evento $A$ es que la primera moneda sea cara, y el evento $B$ es que la segunda moneda sea cara.\n",
    "\n",
    "1. $ P(A) = 0.5 $\n",
    "2. $ P(B) = 0.5 $\n",
    "3. $ P(A \\cap B) = 0.5 \\cdot 0.5 = 0.25 $\n",
    "\n",
    "Dado que $ P(A \\cap B) = P(A) \\cdot P(B) $, los eventos $A$ y $B$ son independientes.\n",
    "\n",
    "##### 1.3.1.2.2. Aplicaciones del Teorema de Bayes en Machine Learning\n",
    "\n",
    "El Teorema de Bayes se utiliza ampliamente en Machine Learning, especialmente en modelos probabilísticos como el clasificador Naive Bayes. El Teorema de Bayes se expresa como:\n",
    "\n",
    "$$ P(A|B) = \\frac{P(B|A) \\cdot P(A)}{P(B)} $$\n",
    "\n",
    "Donde:\n",
    "- $ P(A|B) $ es la probabilidad de $ A $ dado $ B $.\n",
    "- $ P(B|A) $ es la probabilidad de $ B $ dado $ A $.\n",
    "- $ P(A) $ y $ P(B) $ son las probabilidades de $ A $ y $ B $ respectivamente.\n",
    "\n",
    "**Ejemplo práctico:**\n",
    "\n",
    "Supongamos que estamos utilizando un clasificador Naive Bayes para detectar spam en correos electrónicos. Queremos calcular la probabilidad de que un correo sea spam ($ S $) dado que contiene la palabra \"gratis\" ($ W $).\n",
    "\n",
    "1. $ P(S) $ es la probabilidad de que un correo sea spam.\n",
    "2. $ P(W|S) $ es la probabilidad de que la palabra \"gratis\" aparezca en correos spam.\n",
    "3. $ P(W) $ es la probabilidad de que la palabra \"gratis\" aparezca en cualquier correo.\n",
    "\n",
    "Si conocemos estos valores, podemos calcular $ P(S|W) $ usando el Teorema de Bayes.\n",
    "\n"
   ]
  },
  {
   "cell_type": "code",
   "execution_count": 151,
   "metadata": {},
   "outputs": [
    {
     "name": "stdout",
     "output_type": "stream",
     "text": [
      "Probabilidad de que un correo sea spam dado que contiene 'gratis': 1.6000000000000003\n"
     ]
    }
   ],
   "source": [
    "# Probabilidades conocidas\n",
    "P_S = 0.2  # 20% de los correos son spam\n",
    "P_W_given_S = 0.8  # 80% de los correos spam contienen \"gratis\"\n",
    "P_W = 0.1  # 10% de todos los correos contienen \"gratis\"\n",
    "\n",
    "# Aplicar el Teorema de Bayes\n",
    "P_S_given_W = (P_W_given_S * P_S) / P_W\n",
    "print(\"Probabilidad de que un correo sea spam dado que contiene 'gratis':\", P_S_given_W)"
   ]
  },
  {
   "cell_type": "markdown",
   "metadata": {},
   "source": [
    "**Nota:** El resultado de 1.6 indica que los valores iniciales pueden no ser coherentes o representan una situación hipotética.\n",
    "\n",
    "Estas aplicaciones de la probabilidad y el Teorema de Bayes son fundamentales en Machine Learning para construir modelos que puedan tomar decisiones basadas en datos inciertos y realizar predicciones precisas."
   ]
  },
  {
   "cell_type": "markdown",
   "metadata": {},
   "source": [
    "### 1.3.2. Variables aleatorias\n",
    "\n",
    "Las variables aleatorias son fundamentales en probabilidad y estadística, ya que nos permiten modelar situaciones en las que los resultados no son deterministas. Una variable aleatoria puede tomar diferentes valores, cada uno con una cierta probabilidad.\n",
    "\n",
    "#### 1.3.2.1. Distribuciones discretas y continuas\n",
    "\n",
    "Las distribuciones de probabilidad describen cómo se distribuyen los valores de una variable aleatoria. Estas pueden ser discretas o continuas.\n",
    "\n",
    "##### 1.3.2.1.1. Distribuciones Discretas: Bernoulli, Binomial y Poisson\n",
    "\n",
    "1. **Distribución de Bernoulli:**\n",
    "\n",
    "   - Describe una variable aleatoria que tiene dos posibles resultados: éxito (1) y fracaso (0).\n",
    "   - Ejemplo: Lanzar una moneda donde éxito es cara y fracaso es cruz.\n",
    "   - **Función de probabilidad:** $ P(X = 1) = p $ y $ P(X = 0) = 1 - p $\n",
    "\n",
    "   **Ejemplo práctico en Python:**"
   ]
  },
  {
   "cell_type": "code",
   "execution_count": 152,
   "metadata": {},
   "outputs": [
    {
     "name": "stdout",
     "output_type": "stream",
     "text": [
      "Resultados de la simulación de Bernoulli: [1 1 1 1 0 0 1 1 1 0]\n"
     ]
    }
   ],
   "source": [
    "import numpy as np\n",
    "# Simular 10 lanzamientos de una moneda con probabilidad de éxito p = 0.5\n",
    "p = 0.5\n",
    "n = 10\n",
    "resultados = np.random.binomial(1, p, n)\n",
    "print(\"Resultados de la simulación de Bernoulli:\", resultados)"
   ]
  },
  {
   "cell_type": "markdown",
   "metadata": {},
   "source": [
    "2. **Distribución Binomial:**\n",
    "\n",
    "   - Describe el número de éxitos en una secuencia de n ensayos de Bernoulli independientes.\n",
    "   - Ejemplo: Contar el número de caras en 10 lanzamientos de una moneda.\n",
    "   - **Función de probabilidad:** $ P(X = k) = \\binom{n}{k} p^k (1-p)^{n-k} $\n",
    "\n",
    "   **Ejemplo práctico en Python:**"
   ]
  },
  {
   "cell_type": "code",
   "execution_count": 153,
   "metadata": {},
   "outputs": [
    {
     "name": "stdout",
     "output_type": "stream",
     "text": [
      "Probabilidad de obtener exactamente 5 caras en 10 lanzamientos: 0.24609375\n"
     ]
    }
   ],
   "source": [
    "   from scipy.stats import binom\n",
    "\n",
    "   # Parámetros de la distribución binomial\n",
    "   n = 10  # número de ensayos\n",
    "   p = 0.5  # probabilidad de éxito en cada ensayo\n",
    "\n",
    "   # Calcular la probabilidad de obtener exactamente 5 caras\n",
    "   k = 5\n",
    "   probabilidad = binom.pmf(k, n, p)\n",
    "   print(f\"Probabilidad de obtener exactamente {k} caras en {n} lanzamientos:\", probabilidad)"
   ]
  },
  {
   "cell_type": "markdown",
   "metadata": {},
   "source": [
    "3. **Distribución de Poisson:**\n",
    "\n",
    "   - Describe el número de eventos que ocurren en un intervalo de tiempo o espacio fijo.\n",
    "   - Ejemplo: Número de llamadas recibidas por una central telefónica en una hora.\n",
    "   - **Función de probabilidad:** $ P(X = k) = \\frac{\\lambda^k e^{-\\lambda}}{k!} $\n",
    "\n",
    "   **Ejemplo práctico en Python:**\n"
   ]
  },
  {
   "cell_type": "code",
   "execution_count": 154,
   "metadata": {},
   "outputs": [
    {
     "name": "stdout",
     "output_type": "stream",
     "text": [
      "Probabilidad de recibir exactamente 5 llamadas en una hora: 0.10081881344492458\n"
     ]
    }
   ],
   "source": [
    "   from scipy.stats import poisson\n",
    "\n",
    "   # Parámetro de la distribución de Poisson\n",
    "   lam = 3  # número medio de llamadas por hora\n",
    "\n",
    "   # Calcular la probabilidad de recibir exactamente 5 llamadas en una hora\n",
    "   k = 5\n",
    "   probabilidad = poisson.pmf(k, lam)\n",
    "   print(f\"Probabilidad de recibir exactamente {k} llamadas en una hora:\", probabilidad)"
   ]
  },
  {
   "cell_type": "markdown",
   "metadata": {},
   "source": [
    "##### 1.3.2.1.2. Distribuciones Continuas: Normal, Exponencial y t-Student\n",
    "\n",
    "1. **Distribución Normal:**\n",
    "\n",
    "   - Describe una variable aleatoria que sigue una distribución en forma de campana.\n",
    "   - Ejemplo: Altura de personas en una población.\n",
    "   - **Función de densidad de probabilidad:** $ f(x) = \\frac{1}{\\sqrt{2\\pi\\sigma^2}} e^{-\\frac{(x-\\mu)^2}{2\\sigma^2}} $\n",
    "\n",
    "   **Ejemplo práctico en Python:**"
   ]
  },
  {
   "cell_type": "code",
   "execution_count": 155,
   "metadata": {},
   "outputs": [
    {
     "data": {
      "image/png": "[encoded data removed]",
      "text/plain": [
       "<Figure size 640x480 with 1 Axes>"
      ]
     },
     "metadata": {},
     "output_type": "display_data"
    }
   ],
   "source": [
    "from scipy.stats import norm\n",
    "import matplotlib.pyplot as plt\n",
    "\n",
    "# Parámetros de la distribución normal\n",
    "mu, sigma = 0, 1\n",
    "# Generar datos y graficar\n",
    "x = np.linspace(-3*sigma, 3*sigma, 100)\n",
    "plt.plot(x, norm.pdf(x, mu, sigma))\n",
    "plt.title('Distribución Normal')\n",
    "plt.show()"
   ]
  },
  {
   "cell_type": "markdown",
   "metadata": {},
   "source": [
    "\n",
    "2. **Distribución Exponencial:**\n",
    "\n",
    "   - Describe el tiempo entre eventos en un proceso de Poisson.\n",
    "   - Ejemplo: Tiempo entre llegadas de clientes a una tienda.\n",
    "   - **Función de densidad de probabilidad:** $ f(x) = \\lambda e^{-\\lambda x} $\n",
    "\n",
    "   **Ejemplo práctico en Python:**"
   ]
  },
  {
   "cell_type": "code",
   "execution_count": 156,
   "metadata": {},
   "outputs": [
    {
     "data": {
      "image/png": "[encoded data removed]",
      "text/plain": [
       "<Figure size 640x480 with 1 Axes>"
      ]
     },
     "metadata": {},
     "output_type": "display_data"
    }
   ],
   "source": [
    "from scipy.stats import expon\n",
    "\n",
    "# Parámetro de la distribución exponencial\n",
    "lam = 1\n",
    "\n",
    "# Generar datos y graficar\n",
    "x = np.linspace(0, 5, 100)\n",
    "plt.plot(x, expon.pdf(x, scale=1/lam))\n",
    "plt.title('Distribución Exponencial')\n",
    "plt.show()"
   ]
  },
  {
   "cell_type": "markdown",
   "metadata": {},
   "source": [
    "\n",
    "2. **Distribución Exponencial:**\n",
    "\n",
    "   - Describe el tiempo entre eventos en un proceso de Poisson.\n",
    "   - Ejemplo: Tiempo entre llegadas de clientes a una tienda.\n",
    "   - **Función de densidad de probabilidad:** $ f(x) = \\lambda e^{-\\lambda x} $\n",
    "\n",
    "   **Ejemplo práctico en Python:**\n",
    "\n",
    "   ```python\n",
    "\n",
    "   ```\n",
    "\n",
    "3. **Distribución t-Student:**\n",
    "\n",
    "   - Describe una variable aleatoria que se utiliza cuando el tamaño de la muestra es pequeño y/o la varianza poblacional es desconocida.\n",
    "   - Ejemplo: Estimación del promedio de una población con muestra pequeña.\n",
    "   - **Función de densidad de probabilidad:** Más compleja, depende de los grados de libertad.\n",
    "\n",
    "   **Ejemplo práctico en Python:**"
   ]
  },
  {
   "cell_type": "code",
   "execution_count": 157,
   "metadata": {},
   "outputs": [
    {
     "data": {
      "image/png": "[encoded data removed]",
      "text/plain": [
       "<Figure size 640x480 with 1 Axes>"
      ]
     },
     "metadata": {},
     "output_type": "display_data"
    }
   ],
   "source": [
    "   from scipy.stats import t\n",
    "\n",
    "   # Parámetro de la distribución t-Student\n",
    "   df = 10  # grados de libertad\n",
    "\n",
    "   # Generar datos y graficar\n",
    "   x = np.linspace(-4, 4, 100)\n",
    "   plt.plot(x, t.pdf(x, df))\n",
    "   plt.title('Distribución t-Student')\n",
    "   plt.show()"
   ]
  },
  {
   "cell_type": "markdown",
   "metadata": {},
   "source": [
    "#### 1.3.2.2. Esperanza y varianza\n",
    "\n",
    "La esperanza (o valor esperado) y la varianza son medidas fundamentales para describir las distribuciones de variables aleatorias.\n",
    "\n",
    "**Esperanza (Valor Esperado):**\n",
    "\n",
    "La esperanza de una variable aleatoria $X$ es una medida del centro de su distribución. Para una variable discreta, se calcula como:\n",
    "\n",
    "$$ E(X) = \\sum_x x \\cdot P(X=x) $$\n",
    "\n",
    "Para una variable continua, se calcula como:\n",
    "\n",
    "$$ E(X) = \\int_{-\\infty}^{\\infty} x \\cdot f(x) \\, dx $$\n",
    "\n",
    "**Varianza:**\n",
    "\n",
    "La varianza mide la dispersión de los valores de la variable alrededor de la esperanza. Para una variable discreta, se calcula como:\n",
    "\n",
    "$$ \\text{Var}(X) = E((X - E(X))^2) = \\sum_x (x - E(X))^2 \\cdot P(X=x) $$\n",
    "\n",
    "Para una variable continua, se calcula como:\n",
    "\n",
    "$$ \\text{Var}(X) = \\int_{-\\infty}^{\\infty} (x - E(X))^2 \\cdot f(x) \\, dx $$\n",
    "\n",
    "##### 1.3.2.2.1. Propiedades de la esperanza y varianza\n",
    "\n",
    "1. **Linealidad de la Esperanza:**\n",
    "\n",
    "$$ E(aX + b) = aE(X) + b $$\n",
    "\n",
    "2. **Varianza de una suma de variables independientes:**\n",
    "\n",
    "$$ \\text{Var}(aX + b) = a^2 \\text{Var}(X) $$\n",
    "\n",
    "##### 1.3.2.2.2. Covarianza y correlación\n",
    "\n",
    "**Covarianza:**\n",
    "\n",
    "La covarianza mide la relación lineal entre dos variables aleatorias. Si $X$ y $Y$ son dos variables aleatorias, su covarianza se calcula como:\n",
    "\n",
    "$$ \\text{Cov}(X, Y) = E((X - E(X))(Y - E(Y))) $$\n",
    "\n",
    "**Correlación:**\n",
    "\n",
    "La correlación es una versión normalizada de la covarianza que mide la fuerza y la dirección de la relación lineal entre dos variables. Se calcula como:\n",
    "\n",
    "$$ \\rho_{X,Y} = \\frac{\\text{Cov}(X, Y)}{\\sqrt{\\text{Var}(X) \\cdot \\text{Var}(Y)}} $$\n",
    "\n",
    "**Ejemplo práctico en Python:**\n",
    "\n",
    "Supongamos que tenemos dos variables aleatorias, las alturas y pesos de un grupo de personas, y queremos calcular la covarianza y correlación entre ellas.\n"
   ]
  },
  {
   "cell_type": "code",
   "execution_count": 158,
   "metadata": {},
   "outputs": [
    {
     "name": "stdout",
     "output_type": "stream",
     "text": [
      "Covarianza entre alturas y pesos: 0.625\n",
      "Correlación entre alturas y pesos: 1.0\n"
     ]
    }
   ],
   "source": [
    "# Datos de ejemplo\n",
    "alturas = np.array([1.60, 1.65, 1.70, 1.75, 1.80])\n",
    "pesos = np.array([60, 65, 70, 75, 80])\n",
    "\n",
    "# Calcular covarianza\n",
    "covarianza = np.cov(alturas, pesos)[0, 1]\n",
    "print(\"Covarianza entre alturas y pesos:\", covarianza)\n",
    "\n",
    "# Calcular correlación\n",
    "correlacion = np.corrcoef(alturas, pesos)[0, 1]\n",
    "print(\"Correlación entre alturas y pesos:\", correlacion)"
   ]
  },
  {
   "cell_type": "markdown",
   "metadata": {},
   "source": [
    "\n",
    "Estas herramientas y conceptos de probabilidad son esenciales para comprender y modelar los datos en Data Science y Machine Learning. Con ellos, podemos hacer predicciones informadas, evaluar modelos y tomar decisiones basadas en datos."
   ]
  }
 ],
 "metadata": {
  "kernelspec": {
   "display_name": "Python 3",
   "language": "python",
   "name": "python3"
  },
  "language_info": {
   "codemirror_mode": {
    "name": "ipython",
    "version": 3
   },
   "file_extension": ".py",
   "mimetype": "text/x-python",
   "name": "python",
   "nbconvert_exporter": "python",
   "pygments_lexer": "ipython3",
   "version": "3.11.7"
  }
 },
 "nbformat": 4,
 "nbformat_minor": 2
}
